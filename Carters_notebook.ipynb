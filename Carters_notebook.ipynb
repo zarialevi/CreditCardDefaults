{
 "cells": [
  {
   "cell_type": "markdown",
   "metadata": {},
   "source": [
    "### Library Imports "
   ]
  },
  {
   "cell_type": "code",
   "execution_count": 1,
   "metadata": {},
   "outputs": [
    {
     "name": "stderr",
     "output_type": "stream",
     "text": [
      "/Users/carterbouley/anaconda3/envs/learn-env/lib/python3.6/site-packages/sklearn/externals/six.py:31: DeprecationWarning: The module is deprecated in version 0.21 and will be removed in version 0.23 since we've dropped support for Python 2.7. Please rely on the official version of six (https://pypi.org/project/six/).\n",
      "  \"(https://pypi.org/project/six/).\", DeprecationWarning)\n"
     ]
    }
   ],
   "source": [
    "import pandas as pd\n",
    "import numpy as np\n",
    "import seaborn as sns\n",
    "import matplotlib.pyplot as plt\n",
    "import models as md\n",
    "import cleaning as cl\n",
    "\n",
    "%matplotlib inline\n",
    "\n",
    "from sklearn.pipeline import Pipeline\n",
    "from sklearn.preprocessing import StandardScaler, PolynomialFeatures, normalize, MinMaxScaler\n",
    "from sklearn.model_selection import train_test_split\n",
    "from sklearn.svm import LinearSVC, SVC\n",
    "from sklearn.linear_model import LinearRegression, LogisticRegression\n",
    "from sklearn.metrics import classification_report, roc_auc_score, roc_curve\n",
    "from sklearn.model_selection import GridSearchCV\n",
    "\n",
    "%load_ext autoreload\n",
    "%autoreload 2\n",
    "\n",
    "from imblearn.over_sampling import SMOTE\n",
    "\n",
    "\n",
    "pd.set_option('display.max_columns', 999)\n",
    "pd.set_option('display.max_rows', 90)\n"
   ]
  },
  {
   "cell_type": "markdown",
   "metadata": {},
   "source": [
    "### Data Loading"
   ]
  },
  {
   "cell_type": "code",
   "execution_count": 2,
   "metadata": {},
   "outputs": [],
   "source": [
    "df = pd.read_csv('credit_messy.csv')\n"
   ]
  },
  {
   "cell_type": "code",
   "execution_count": 3,
   "metadata": {},
   "outputs": [
    {
     "data": {
      "text/plain": [
       "Index(['ID', 'CreditLimit', 'Gender', 'Education', 'MaritalStatus', 'Age',\n",
       "       'RepayStatApr', 'RepayStatMay', 'RepayStatJun', 'RepayStatJul',\n",
       "       'RepayStatAug', 'RepayStatSep', 'BillSep', 'BillAug', 'BillJul',\n",
       "       'BillJun', 'BillMay', 'BillApr', 'PaymentSep', 'PaymentAug',\n",
       "       'PaymentJul', 'PaymentJun', 'PaymentMay', 'PaymentApr', 'Default'],\n",
       "      dtype='object')"
      ]
     },
     "execution_count": 3,
     "metadata": {},
     "output_type": "execute_result"
    }
   ],
   "source": [
    "df.columns"
   ]
  },
  {
   "cell_type": "code",
   "execution_count": 4,
   "metadata": {},
   "outputs": [
    {
     "data": {
      "text/html": [
       "<div>\n",
       "<style scoped>\n",
       "    .dataframe tbody tr th:only-of-type {\n",
       "        vertical-align: middle;\n",
       "    }\n",
       "\n",
       "    .dataframe tbody tr th {\n",
       "        vertical-align: top;\n",
       "    }\n",
       "\n",
       "    .dataframe thead th {\n",
       "        text-align: right;\n",
       "    }\n",
       "</style>\n",
       "<table border=\"1\" class=\"dataframe\">\n",
       "  <thead>\n",
       "    <tr style=\"text-align: right;\">\n",
       "      <th></th>\n",
       "      <th>ID</th>\n",
       "      <th>CreditLimit</th>\n",
       "      <th>Gender</th>\n",
       "      <th>Education</th>\n",
       "      <th>MaritalStatus</th>\n",
       "      <th>Age</th>\n",
       "      <th>RepayStatApr</th>\n",
       "      <th>RepayStatMay</th>\n",
       "      <th>RepayStatJun</th>\n",
       "      <th>RepayStatJul</th>\n",
       "      <th>RepayStatAug</th>\n",
       "      <th>RepayStatSep</th>\n",
       "      <th>BillSep</th>\n",
       "      <th>BillAug</th>\n",
       "      <th>BillJul</th>\n",
       "      <th>BillJun</th>\n",
       "      <th>BillMay</th>\n",
       "      <th>BillApr</th>\n",
       "      <th>PaymentSep</th>\n",
       "      <th>PaymentAug</th>\n",
       "      <th>PaymentJul</th>\n",
       "      <th>PaymentJun</th>\n",
       "      <th>PaymentMay</th>\n",
       "      <th>PaymentApr</th>\n",
       "      <th>Default</th>\n",
       "    </tr>\n",
       "  </thead>\n",
       "  <tbody>\n",
       "    <tr>\n",
       "      <td>0</td>\n",
       "      <td>1</td>\n",
       "      <td>20000</td>\n",
       "      <td>2</td>\n",
       "      <td>2</td>\n",
       "      <td>1</td>\n",
       "      <td>24</td>\n",
       "      <td>2</td>\n",
       "      <td>2</td>\n",
       "      <td>-1</td>\n",
       "      <td>-1</td>\n",
       "      <td>-2</td>\n",
       "      <td>-2</td>\n",
       "      <td>3913</td>\n",
       "      <td>3102</td>\n",
       "      <td>689</td>\n",
       "      <td>0</td>\n",
       "      <td>0</td>\n",
       "      <td>0</td>\n",
       "      <td>0</td>\n",
       "      <td>689</td>\n",
       "      <td>0</td>\n",
       "      <td>0</td>\n",
       "      <td>0</td>\n",
       "      <td>0</td>\n",
       "      <td>1</td>\n",
       "    </tr>\n",
       "    <tr>\n",
       "      <td>1</td>\n",
       "      <td>2</td>\n",
       "      <td>120000</td>\n",
       "      <td>2</td>\n",
       "      <td>2</td>\n",
       "      <td>2</td>\n",
       "      <td>26</td>\n",
       "      <td>-1</td>\n",
       "      <td>2</td>\n",
       "      <td>0</td>\n",
       "      <td>0</td>\n",
       "      <td>0</td>\n",
       "      <td>2</td>\n",
       "      <td>2682</td>\n",
       "      <td>1725</td>\n",
       "      <td>2682</td>\n",
       "      <td>3272</td>\n",
       "      <td>3455</td>\n",
       "      <td>3261</td>\n",
       "      <td>0</td>\n",
       "      <td>1000</td>\n",
       "      <td>1000</td>\n",
       "      <td>1000</td>\n",
       "      <td>0</td>\n",
       "      <td>2000</td>\n",
       "      <td>1</td>\n",
       "    </tr>\n",
       "    <tr>\n",
       "      <td>2</td>\n",
       "      <td>3</td>\n",
       "      <td>90000</td>\n",
       "      <td>2</td>\n",
       "      <td>2</td>\n",
       "      <td>2</td>\n",
       "      <td>34</td>\n",
       "      <td>0</td>\n",
       "      <td>0</td>\n",
       "      <td>0</td>\n",
       "      <td>0</td>\n",
       "      <td>0</td>\n",
       "      <td>0</td>\n",
       "      <td>29239</td>\n",
       "      <td>14027</td>\n",
       "      <td>13559</td>\n",
       "      <td>14331</td>\n",
       "      <td>14948</td>\n",
       "      <td>15549</td>\n",
       "      <td>1518</td>\n",
       "      <td>1500</td>\n",
       "      <td>1000</td>\n",
       "      <td>1000</td>\n",
       "      <td>1000</td>\n",
       "      <td>5000</td>\n",
       "      <td>0</td>\n",
       "    </tr>\n",
       "    <tr>\n",
       "      <td>3</td>\n",
       "      <td>4</td>\n",
       "      <td>50000</td>\n",
       "      <td>2</td>\n",
       "      <td>2</td>\n",
       "      <td>1</td>\n",
       "      <td>37</td>\n",
       "      <td>0</td>\n",
       "      <td>0</td>\n",
       "      <td>0</td>\n",
       "      <td>0</td>\n",
       "      <td>0</td>\n",
       "      <td>0</td>\n",
       "      <td>46990</td>\n",
       "      <td>48233</td>\n",
       "      <td>49291</td>\n",
       "      <td>28314</td>\n",
       "      <td>28959</td>\n",
       "      <td>29547</td>\n",
       "      <td>2000</td>\n",
       "      <td>2019</td>\n",
       "      <td>1200</td>\n",
       "      <td>1100</td>\n",
       "      <td>1069</td>\n",
       "      <td>1000</td>\n",
       "      <td>0</td>\n",
       "    </tr>\n",
       "    <tr>\n",
       "      <td>4</td>\n",
       "      <td>5</td>\n",
       "      <td>50000</td>\n",
       "      <td>1</td>\n",
       "      <td>2</td>\n",
       "      <td>1</td>\n",
       "      <td>57</td>\n",
       "      <td>-1</td>\n",
       "      <td>0</td>\n",
       "      <td>-1</td>\n",
       "      <td>0</td>\n",
       "      <td>0</td>\n",
       "      <td>0</td>\n",
       "      <td>8617</td>\n",
       "      <td>5670</td>\n",
       "      <td>35835</td>\n",
       "      <td>20940</td>\n",
       "      <td>19146</td>\n",
       "      <td>19131</td>\n",
       "      <td>2000</td>\n",
       "      <td>36681</td>\n",
       "      <td>10000</td>\n",
       "      <td>9000</td>\n",
       "      <td>689</td>\n",
       "      <td>679</td>\n",
       "      <td>0</td>\n",
       "    </tr>\n",
       "  </tbody>\n",
       "</table>\n",
       "</div>"
      ],
      "text/plain": [
       "   ID  CreditLimit  Gender  Education  MaritalStatus  Age  RepayStatApr  \\\n",
       "0   1        20000       2          2              1   24             2   \n",
       "1   2       120000       2          2              2   26            -1   \n",
       "2   3        90000       2          2              2   34             0   \n",
       "3   4        50000       2          2              1   37             0   \n",
       "4   5        50000       1          2              1   57            -1   \n",
       "\n",
       "   RepayStatMay  RepayStatJun  RepayStatJul  RepayStatAug  RepayStatSep  \\\n",
       "0             2            -1            -1            -2            -2   \n",
       "1             2             0             0             0             2   \n",
       "2             0             0             0             0             0   \n",
       "3             0             0             0             0             0   \n",
       "4             0            -1             0             0             0   \n",
       "\n",
       "   BillSep  BillAug  BillJul  BillJun  BillMay  BillApr  PaymentSep  \\\n",
       "0     3913     3102      689        0        0        0           0   \n",
       "1     2682     1725     2682     3272     3455     3261           0   \n",
       "2    29239    14027    13559    14331    14948    15549        1518   \n",
       "3    46990    48233    49291    28314    28959    29547        2000   \n",
       "4     8617     5670    35835    20940    19146    19131        2000   \n",
       "\n",
       "   PaymentAug  PaymentJul  PaymentJun  PaymentMay  PaymentApr  Default  \n",
       "0         689           0           0           0           0        1  \n",
       "1        1000        1000        1000           0        2000        1  \n",
       "2        1500        1000        1000        1000        5000        0  \n",
       "3        2019        1200        1100        1069        1000        0  \n",
       "4       36681       10000        9000         689         679        0  "
      ]
     },
     "execution_count": 4,
     "metadata": {},
     "output_type": "execute_result"
    }
   ],
   "source": [
    "df.head()"
   ]
  },
  {
   "cell_type": "markdown",
   "metadata": {},
   "source": [
    "### Initial data exploration "
   ]
  },
  {
   "cell_type": "code",
   "execution_count": 5,
   "metadata": {},
   "outputs": [
    {
     "data": {
      "text/plain": [
       "<matplotlib.axes._subplots.AxesSubplot at 0x1a1847e9b0>"
      ]
     },
     "execution_count": 5,
     "metadata": {},
     "output_type": "execute_result"
    },
    {
     "data": {
      "image/png": "[encoded data removed]",
      "text/plain": [
       "<Figure size 432x288 with 1 Axes>"
      ]
     },
     "metadata": {
      "needs_background": "light"
     },
     "output_type": "display_data"
    }
   ],
   "source": [
    "df.MaritalStatus.value_counts().plot(kind='bar')"
   ]
  },
  {
   "cell_type": "code",
   "execution_count": 6,
   "metadata": {},
   "outputs": [
    {
     "data": {
      "text/plain": [
       "2    15964\n",
       "1    13659\n",
       "3      323\n",
       "0       54\n",
       "Name: MaritalStatus, dtype: int64"
      ]
     },
     "execution_count": 6,
     "metadata": {},
     "output_type": "execute_result"
    }
   ],
   "source": [
    "df.MaritalStatus.value_counts()"
   ]
  },
  {
   "cell_type": "code",
   "execution_count": 8,
   "metadata": {},
   "outputs": [
    {
     "data": {
      "text/plain": [
       "<matplotlib.axes._subplots.AxesSubplot at 0x1a1cb94278>"
      ]
     },
     "execution_count": 8,
     "metadata": {},
     "output_type": "execute_result"
    },
    {
     "data": {
      "image/png": "[encoded data removed]",
      "text/plain": [
       "<Figure size 432x288 with 1 Axes>"
      ]
     },
     "metadata": {
      "needs_background": "light"
     },
     "output_type": "display_data"
    }
   ],
   "source": [
    "df.Education.value_counts().plot(kind='bar')"
   ]
  },
  {
   "cell_type": "code",
   "execution_count": 13,
   "metadata": {},
   "outputs": [],
   "source": [
    "df = cl.FixEducation(df)"
   ]
  },
  {
   "cell_type": "code",
   "execution_count": 14,
   "metadata": {},
   "outputs": [
    {
     "data": {
      "text/plain": [
       "2    14024\n",
       "1    10581\n",
       "3     4873\n",
       "4      123\n",
       "Name: Education, dtype: int64"
      ]
     },
     "execution_count": 14,
     "metadata": {},
     "output_type": "execute_result"
    }
   ],
   "source": [
    "# Either mislabelled or incorrect data (marriage = 0, Education = 0)\n",
    "# Given this is such a small proportion of our set, i've decided to drop the rows containing this information\n",
    "df.Education.value_counts()"
   ]
  },
  {
   "cell_type": "code",
   "execution_count": 15,
   "metadata": {},
   "outputs": [
    {
     "data": {
      "text/plain": [
       "Index(['ID', 'CreditLimit', 'Gender', 'Education', 'MaritalStatus', 'Age',\n",
       "       'RepayStatApr', 'RepayStatMay', 'RepayStatJun', 'RepayStatJul',\n",
       "       'RepayStatAug', 'RepayStatSep', 'BillSep', 'BillAug', 'BillJul',\n",
       "       'BillJun', 'BillMay', 'BillApr', 'PaymentSep', 'PaymentAug',\n",
       "       'PaymentJul', 'PaymentJun', 'PaymentMay', 'PaymentApr', 'Default'],\n",
       "      dtype='object')"
      ]
     },
     "execution_count": 15,
     "metadata": {},
     "output_type": "execute_result"
    }
   ],
   "source": [
    "df.columns"
   ]
  },
  {
   "cell_type": "code",
   "execution_count": 7,
   "metadata": {},
   "outputs": [],
   "source": [
    "df.columns =['ID','CreditLimit','Gender','Education','MaritalStatus','Age',\n",
    "        'RepayStatApr','RepayStatMay','RepayStatJun','RepayStatJul','RepayStatAug','RepayStatSep',\n",
    "        'BillApr','BillMay','BillJun','BillJul','BillAug','BillSep',\n",
    "        'PrevPaymentApr','PrevPaymentMay','PrevPaymentJun','PrevPaymentJul','PrevPaymentAug','PrevPaymentSep',\n",
    "        'Default']\n",
    "\n"
   ]
  },
  {
   "cell_type": "markdown",
   "metadata": {},
   "source": [
    "### Getting a feel for the distribution of the data to analyse points for feature engineering"
   ]
  },
  {
   "cell_type": "markdown",
   "metadata": {},
   "source": [
    "The following cell will help us interpret our EDA by mapping the categorical variables based on the columns values"
   ]
  },
  {
   "cell_type": "code",
   "execution_count": 74,
   "metadata": {},
   "outputs": [],
   "source": [
    "gender_dict ={1:'male', 2:'female'}\n",
    "education_dict = {1: 'graduate school', 2: 'university', 3: 'high school', 4: 'others'}\n",
    "marriage_dict = {1 : 'married', 2 : 'single', 3 : 'others'}\n",
    "df['Gender'] = df['Gender'].map(gender_dict)\n",
    "df['Education'] = df['Education'].map(education_dict)\n",
    "df['MaritalStatus'] = df['MaritalStatus'].map(marriage_dict)"
   ]
  },
  {
   "cell_type": "code",
   "execution_count": 75,
   "metadata": {},
   "outputs": [
    {
     "data": {
      "text/plain": [
       "count      29601.000000\n",
       "mean      167550.544914\n",
       "std       129944.020953\n",
       "min        10000.000000\n",
       "25%        50000.000000\n",
       "50%       140000.000000\n",
       "75%       240000.000000\n",
       "max      1000000.000000\n",
       "Name: CreditLimit, dtype: float64"
      ]
     },
     "execution_count": 75,
     "metadata": {},
     "output_type": "execute_result"
    }
   ],
   "source": [
    "df['CreditLimit'].describe() # Credit limit exploration, mean limit of 167,000 NT$."
   ]
  },
  {
   "cell_type": "markdown",
   "metadata": {},
   "source": [
    "Converting .describe into USD for interpretation"
   ]
  },
  {
   "cell_type": "code",
   "execution_count": 76,
   "metadata": {},
   "outputs": [
    {
     "name": "stdout",
     "output_type": "stream",
     "text": [
      "$976.83\n",
      "$5529.17\n",
      "$4288.15\n",
      "$330.0\n",
      "$1650.0\n",
      "$4620.0\n",
      "$7920.0\n",
      "$33000.0\n"
     ]
    }
   ],
   "source": [
    "for result in df['CreditLimit'].describe():\n",
    "    print('$' + str(round(result*0.033, 2)))"
   ]
  },
  {
   "cell_type": "code",
   "execution_count": 77,
   "metadata": {},
   "outputs": [
    {
     "data": {
      "text/plain": [
       "<matplotlib.axes._subplots.AxesSubplot at 0x1a20f919b0>"
      ]
     },
     "execution_count": 77,
     "metadata": {},
     "output_type": "execute_result"
    },
    {
     "data": {
      "image/png": "[encoded data removed]",
      "text/plain": [
       "<Figure size 432x288 with 1 Axes>"
      ]
     },
     "metadata": {
      "needs_background": "light"
     },
     "output_type": "display_data"
    }
   ],
   "source": [
    "df.CreditLimit.hist()"
   ]
  },
  {
   "cell_type": "code",
   "execution_count": 78,
   "metadata": {},
   "outputs": [
    {
     "name": "stdout",
     "output_type": "stream",
     "text": [
      "Average chance of default: 22.31343535691362%\n"
     ]
    }
   ],
   "source": [
    "total_default_pcnt = df['Default'].sum()/len(df.Default)\n",
    "print('Average chance of default: ' + str(total_default_pcnt * 100) + '%')"
   ]
  },
  {
   "cell_type": "code",
   "execution_count": 79,
   "metadata": {},
   "outputs": [
    {
     "data": {
      "text/plain": [
       "<matplotlib.axes._subplots.AxesSubplot at 0x1a213ca048>"
      ]
     },
     "execution_count": 79,
     "metadata": {},
     "output_type": "execute_result"
    },
    {
     "data": {
      "image/png": "[encoded data removed]",
      "text/plain": [
       "<Figure size 432x288 with 1 Axes>"
      ]
     },
     "metadata": {
      "needs_background": "light"
     },
     "output_type": "display_data"
    }
   ],
   "source": [
    "df.Age.hist()"
   ]
  },
  {
   "cell_type": "code",
   "execution_count": 80,
   "metadata": {},
   "outputs": [
    {
     "data": {
      "text/plain": [
       "<matplotlib.axes._subplots.AxesSubplot at 0x1a2155a6d8>"
      ]
     },
     "execution_count": 80,
     "metadata": {},
     "output_type": "execute_result"
    },
    {
     "data": {
      "image/png": "[encoded data removed]",
      "text/plain": [
       "<Figure size 432x288 with 1 Axes>"
      ]
     },
     "metadata": {
      "needs_background": "light"
     },
     "output_type": "display_data"
    }
   ],
   "source": [
    "gender_df = pd.DataFrame(df.groupby(['Gender', 'Default']).size().unstack())\n",
    "gender_df.plot(kind='bar', stacked = True)\n"
   ]
  },
  {
   "cell_type": "code",
   "execution_count": 81,
   "metadata": {},
   "outputs": [
    {
     "data": {
      "text/html": [
       "<div>\n",
       "<style scoped>\n",
       "    .dataframe tbody tr th:only-of-type {\n",
       "        vertical-align: middle;\n",
       "    }\n",
       "\n",
       "    .dataframe tbody tr th {\n",
       "        vertical-align: top;\n",
       "    }\n",
       "\n",
       "    .dataframe thead th {\n",
       "        text-align: right;\n",
       "    }\n",
       "</style>\n",
       "<table border=\"1\" class=\"dataframe\">\n",
       "  <thead>\n",
       "    <tr style=\"text-align: right;\">\n",
       "      <th>Default</th>\n",
       "      <th>0</th>\n",
       "      <th>1</th>\n",
       "      <th>percentage_defaulted</th>\n",
       "    </tr>\n",
       "    <tr>\n",
       "      <th>Gender</th>\n",
       "      <th></th>\n",
       "      <th></th>\n",
       "      <th></th>\n",
       "    </tr>\n",
       "  </thead>\n",
       "  <tbody>\n",
       "    <tr>\n",
       "      <td>female</td>\n",
       "      <td>14111</td>\n",
       "      <td>3744</td>\n",
       "      <td>20.969</td>\n",
       "    </tr>\n",
       "    <tr>\n",
       "      <td>male</td>\n",
       "      <td>8885</td>\n",
       "      <td>2861</td>\n",
       "      <td>24.357</td>\n",
       "    </tr>\n",
       "  </tbody>\n",
       "</table>\n",
       "</div>"
      ],
      "text/plain": [
       "Default      0     1  percentage_defaulted\n",
       "Gender                                    \n",
       "female   14111  3744                20.969\n",
       "male      8885  2861                24.357"
      ]
     },
     "execution_count": 81,
     "metadata": {},
     "output_type": "execute_result"
    }
   ],
   "source": [
    "gender_df['percentage_defaulted'] = round((gender_df[1]/(gender_df[0] + gender_df[1]))*100, 3)\n",
    "gender_df"
   ]
  },
  {
   "cell_type": "code",
   "execution_count": 82,
   "metadata": {},
   "outputs": [
    {
     "data": {
      "text/html": [
       "<div>\n",
       "<style scoped>\n",
       "    .dataframe tbody tr th:only-of-type {\n",
       "        vertical-align: middle;\n",
       "    }\n",
       "\n",
       "    .dataframe tbody tr th {\n",
       "        vertical-align: top;\n",
       "    }\n",
       "\n",
       "    .dataframe thead th {\n",
       "        text-align: right;\n",
       "    }\n",
       "</style>\n",
       "<table border=\"1\" class=\"dataframe\">\n",
       "  <thead>\n",
       "    <tr style=\"text-align: right;\">\n",
       "      <th>Default</th>\n",
       "      <th>0</th>\n",
       "      <th>1</th>\n",
       "    </tr>\n",
       "    <tr>\n",
       "      <th>Education</th>\n",
       "      <th></th>\n",
       "      <th></th>\n",
       "    </tr>\n",
       "  </thead>\n",
       "  <tbody>\n",
       "    <tr>\n",
       "      <td>graduate school</td>\n",
       "      <td>8545</td>\n",
       "      <td>2036</td>\n",
       "    </tr>\n",
       "    <tr>\n",
       "      <td>high school</td>\n",
       "      <td>3640</td>\n",
       "      <td>1233</td>\n",
       "    </tr>\n",
       "    <tr>\n",
       "      <td>others</td>\n",
       "      <td>116</td>\n",
       "      <td>7</td>\n",
       "    </tr>\n",
       "    <tr>\n",
       "      <td>university</td>\n",
       "      <td>10695</td>\n",
       "      <td>3329</td>\n",
       "    </tr>\n",
       "  </tbody>\n",
       "</table>\n",
       "</div>"
      ],
      "text/plain": [
       "Default              0     1\n",
       "Education                   \n",
       "graduate school   8545  2036\n",
       "high school       3640  1233\n",
       "others             116     7\n",
       "university       10695  3329"
      ]
     },
     "execution_count": 82,
     "metadata": {},
     "output_type": "execute_result"
    }
   ],
   "source": [
    "education_df = pd.DataFrame(df.groupby(['Education', 'Default']).size().unstack())\n",
    "                            \n",
    "education_df"
   ]
  },
  {
   "cell_type": "code",
   "execution_count": 83,
   "metadata": {},
   "outputs": [
    {
     "data": {
      "text/plain": [
       "<matplotlib.axes._subplots.AxesSubplot at 0x1a21a85b38>"
      ]
     },
     "execution_count": 83,
     "metadata": {},
     "output_type": "execute_result"
    },
    {
     "data": {
      "image/png": "[encoded data removed]",
      "text/plain": [
       "<Figure size 432x288 with 1 Axes>"
      ]
     },
     "metadata": {
      "needs_background": "light"
     },
     "output_type": "display_data"
    }
   ],
   "source": [
    "education_df = pd.DataFrame(df.groupby(['Education', 'Default']).size().unstack())\n",
    "education_df.plot(kind='bar', stacked = True)"
   ]
  },
  {
   "cell_type": "code",
   "execution_count": 84,
   "metadata": {},
   "outputs": [
    {
     "data": {
      "text/html": [
       "<div>\n",
       "<style scoped>\n",
       "    .dataframe tbody tr th:only-of-type {\n",
       "        vertical-align: middle;\n",
       "    }\n",
       "\n",
       "    .dataframe tbody tr th {\n",
       "        vertical-align: top;\n",
       "    }\n",
       "\n",
       "    .dataframe thead th {\n",
       "        text-align: right;\n",
       "    }\n",
       "</style>\n",
       "<table border=\"1\" class=\"dataframe\">\n",
       "  <thead>\n",
       "    <tr style=\"text-align: right;\">\n",
       "      <th>Default</th>\n",
       "      <th>0</th>\n",
       "      <th>1</th>\n",
       "      <th>percentage_defaulted</th>\n",
       "    </tr>\n",
       "    <tr>\n",
       "      <th>Education</th>\n",
       "      <th></th>\n",
       "      <th></th>\n",
       "      <th></th>\n",
       "    </tr>\n",
       "  </thead>\n",
       "  <tbody>\n",
       "    <tr>\n",
       "      <td>graduate school</td>\n",
       "      <td>8545</td>\n",
       "      <td>2036</td>\n",
       "      <td>19.242</td>\n",
       "    </tr>\n",
       "    <tr>\n",
       "      <td>high school</td>\n",
       "      <td>3640</td>\n",
       "      <td>1233</td>\n",
       "      <td>25.303</td>\n",
       "    </tr>\n",
       "    <tr>\n",
       "      <td>others</td>\n",
       "      <td>116</td>\n",
       "      <td>7</td>\n",
       "      <td>5.691</td>\n",
       "    </tr>\n",
       "    <tr>\n",
       "      <td>university</td>\n",
       "      <td>10695</td>\n",
       "      <td>3329</td>\n",
       "      <td>23.738</td>\n",
       "    </tr>\n",
       "  </tbody>\n",
       "</table>\n",
       "</div>"
      ],
      "text/plain": [
       "Default              0     1  percentage_defaulted\n",
       "Education                                         \n",
       "graduate school   8545  2036                19.242\n",
       "high school       3640  1233                25.303\n",
       "others             116     7                 5.691\n",
       "university       10695  3329                23.738"
      ]
     },
     "execution_count": 84,
     "metadata": {},
     "output_type": "execute_result"
    }
   ],
   "source": [
    "education_df['percentage_defaulted'] = round((education_df[1]/(education_df[0] + education_df[1]))*100, 3)\n",
    "education_df"
   ]
  },
  {
   "cell_type": "code",
   "execution_count": 85,
   "metadata": {},
   "outputs": [
    {
     "data": {
      "text/plain": [
       "<matplotlib.axes._subplots.AxesSubplot at 0x1a215bdb00>"
      ]
     },
     "execution_count": 85,
     "metadata": {},
     "output_type": "execute_result"
    },
    {
     "data": {
      "image/png": "[encoded data removed]",
      "text/plain": [
       "<Figure size 432x288 with 1 Axes>"
      ]
     },
     "metadata": {
      "needs_background": "light"
     },
     "output_type": "display_data"
    }
   ],
   "source": [
    "marriage_df = pd.DataFrame(df.groupby(['MaritalStatus', 'Default']).size().unstack())\n",
    "marriage_df.plot(kind='bar', stacked = True)"
   ]
  },
  {
   "cell_type": "code",
   "execution_count": 86,
   "metadata": {},
   "outputs": [
    {
     "data": {
      "text/html": [
       "<div>\n",
       "<style scoped>\n",
       "    .dataframe tbody tr th:only-of-type {\n",
       "        vertical-align: middle;\n",
       "    }\n",
       "\n",
       "    .dataframe tbody tr th {\n",
       "        vertical-align: top;\n",
       "    }\n",
       "\n",
       "    .dataframe thead th {\n",
       "        text-align: right;\n",
       "    }\n",
       "</style>\n",
       "<table border=\"1\" class=\"dataframe\">\n",
       "  <thead>\n",
       "    <tr style=\"text-align: right;\">\n",
       "      <th>Default</th>\n",
       "      <th>0</th>\n",
       "      <th>1</th>\n",
       "      <th>percentage_defaulted</th>\n",
       "    </tr>\n",
       "    <tr>\n",
       "      <th>MaritalStatus</th>\n",
       "      <th></th>\n",
       "      <th></th>\n",
       "      <th></th>\n",
       "    </tr>\n",
       "  </thead>\n",
       "  <tbody>\n",
       "    <tr>\n",
       "      <td>married</td>\n",
       "      <td>10285</td>\n",
       "      <td>3192</td>\n",
       "      <td>23.685</td>\n",
       "    </tr>\n",
       "    <tr>\n",
       "      <td>others</td>\n",
       "      <td>234</td>\n",
       "      <td>84</td>\n",
       "      <td>26.415</td>\n",
       "    </tr>\n",
       "    <tr>\n",
       "      <td>single</td>\n",
       "      <td>12477</td>\n",
       "      <td>3329</td>\n",
       "      <td>21.062</td>\n",
       "    </tr>\n",
       "  </tbody>\n",
       "</table>\n",
       "</div>"
      ],
      "text/plain": [
       "Default            0     1  percentage_defaulted\n",
       "MaritalStatus                                   \n",
       "married        10285  3192                23.685\n",
       "others           234    84                26.415\n",
       "single         12477  3329                21.062"
      ]
     },
     "execution_count": 86,
     "metadata": {},
     "output_type": "execute_result"
    }
   ],
   "source": [
    "marriage_df['percentage_defaulted'] = round((marriage_df[1]/(marriage_df[0] + marriage_df[1]))*100, 3)\n",
    "marriage_df"
   ]
  },
  {
   "cell_type": "code",
   "execution_count": 87,
   "metadata": {},
   "outputs": [
    {
     "data": {
      "text/plain": [
       "<seaborn.axisgrid.FacetGrid at 0x1a2158fbe0>"
      ]
     },
     "execution_count": 87,
     "metadata": {},
     "output_type": "execute_result"
    },
    {
     "data": {
      "image/png": "[encoded data removed]",
      "text/plain": [
       "<Figure size 476.75x216 with 2 Axes>"
      ]
     },
     "metadata": {
      "needs_background": "light"
     },
     "output_type": "display_data"
    }
   ],
   "source": [
    "g = sns.FacetGrid(df, col='Gender', hue='Default')\n",
    "g.map(plt.hist, 'Age', alpha=0.6, bins=25) #alpha is for opacity\n",
    "g.add_legend()"
   ]
  },
  {
   "cell_type": "code",
   "execution_count": 88,
   "metadata": {},
   "outputs": [
    {
     "data": {
      "text/plain": [
       "<seaborn.axisgrid.FacetGrid at 0x1a210c1b38>"
      ]
     },
     "execution_count": 88,
     "metadata": {},
     "output_type": "execute_result"
    },
    {
     "data": {
      "image/png": "[encoded data removed]",
      "text/plain": [
       "<Figure size 908.75x216 with 4 Axes>"
      ]
     },
     "metadata": {
      "needs_background": "light"
     },
     "output_type": "display_data"
    }
   ],
   "source": [
    "e = sns.FacetGrid(df, col='Education', hue='Default')\n",
    "e.map(plt.hist, 'Age', alpha=0.6, bins=25) #alpha is for opacity\n",
    "e.add_legend()"
   ]
  },
  {
   "cell_type": "code",
   "execution_count": 89,
   "metadata": {},
   "outputs": [
    {
     "data": {
      "text/plain": [
       "<seaborn.axisgrid.FacetGrid at 0x1a1ae7ac50>"
      ]
     },
     "execution_count": 89,
     "metadata": {},
     "output_type": "execute_result"
    },
    {
     "data": {
      "image/png": "[encoded data removed]",
      "text/plain": [
       "<Figure size 692.75x216 with 3 Axes>"
      ]
     },
     "metadata": {
      "needs_background": "light"
     },
     "output_type": "display_data"
    }
   ],
   "source": [
    "m = sns.FacetGrid(df, col='MaritalStatus', hue='Default')\n",
    "m.map(plt.hist, 'Age', alpha=0.6, bins=25) #alpha is for opacity\n",
    "m.add_legend()"
   ]
  },
  {
   "cell_type": "code",
   "execution_count": 90,
   "metadata": {},
   "outputs": [],
   "source": [
    "df['average_bill'] =  (df['BillApr'] + df['BillMay'] + df['BillJun'] + df['BillJul'] + df['BillAug'] + df['BillSep'])/6                                                                           \n",
    "df['average_payment'] = (df['PrevPaymentSep']  + df['PrevPaymentAug'] + df['PrevPaymentJul'] + df['PrevPaymentJun'] + df['PrevPaymentMay'] + df['PrevPaymentApr'])/6\n",
    "df['total_payment'] = (df['PrevPaymentSep'] + df['PrevPaymentAug'] + df['PrevPaymentJul'] + df['PrevPaymentJun'] + df['PrevPaymentMay'] + df['PrevPaymentApr'])                                                                                  \n",
    "df['average_percentage_of_bill_paid'] = (df['average_payment']/df['average_bill'])*100\n",
    "df['bill_paid/credit_limit'] = (df['total_payment']/df['CreditLimit'])*100\n",
    "df['average_bill_paid/credit_limit'] = (df['average_payment']/df['CreditLimit'])*100"
   ]
  },
  {
   "cell_type": "code",
   "execution_count": 1,
   "metadata": {},
   "outputs": [],
   "source": [
    "# From this step above we found 784 cases of users who had 0 total bill, and 0 payments.\n",
    "# Given they were not using the cards, and there was a range of defaults and non defaults, \n",
    "# we decided to remove this data as we were unsure on how someone who didn't use the card \n",
    "# could default."
   ]
  },
  {
   "cell_type": "code",
   "execution_count": 92,
   "metadata": {},
   "outputs": [],
   "source": [
    "drop_non_users =( df.loc[(df.average_bill == 0) & (df.total_payment == 0)]).index\n",
    "df = df.drop(drop_non_users)"
   ]
  },
  {
   "cell_type": "code",
   "execution_count": 93,
   "metadata": {},
   "outputs": [],
   "source": [
    "# Getting Dummies for Categorical Variables\n",
    "df = pd.get_dummies(df)"
   ]
  },
  {
   "cell_type": "code",
   "execution_count": 94,
   "metadata": {},
   "outputs": [],
   "source": [
    "df_test = df.loc[df.average_percentage_of_bill_paid == np.inf].index\n",
    "df = df.drop(df_test)"
   ]
  },
  {
   "cell_type": "code",
   "execution_count": 95,
   "metadata": {},
   "outputs": [],
   "source": [
    "df.to_csv('working_data.csv')"
   ]
  },
  {
   "cell_type": "code",
   "execution_count": 96,
   "metadata": {},
   "outputs": [],
   "source": [
    "X = df[['Gender_female' ,'Gender_male' ,'Education_graduate school' ,'Education_high school', 'Education_others', 'Education_university','MaritalStatus_married', 'MaritalStatus_others',\n",
    "       'MaritalStatus_single']]\n",
    "# Here I selected the columns we wanted to investigate interactions for"
   ]
  },
  {
   "cell_type": "code",
   "execution_count": 100,
   "metadata": {},
   "outputs": [],
   "source": [
    "features = pd.DataFrame(poly.fit_transform(X), columns=poly.get_feature_names(X.columns))\n",
    "list_of_cols = []\n",
    "for col in features:\n",
    "    list_of_cols.append(col)\n",
    "    \n",
    "for col in list_of_cols:\n",
    "    if features[col].sum() == 0:\n",
    "        features = features.drop(columns = (col))\n",
    "    else:\n",
    "        pass\n",
    "    \n",
    "to_drop = features[['Gender_female', 'Gender_male', 'Education_graduate school',\n",
    "       'Education_high school', 'Education_others', 'Education_university',\n",
    "       'MaritalStatus_married', 'MaritalStatus_others',\n",
    "       'MaritalStatus_single']]\n",
    "features = features.drop(to_drop, axis = 1)"
   ]
  },
  {
   "cell_type": "code",
   "execution_count": 103,
   "metadata": {},
   "outputs": [],
   "source": [
    "# Here I decided to change the negative status of repayment each month to 0 if no interest is paid, keeping the lags the same from then \n",
    "# on out.\n",
    "\n",
    "cl.FixNegatives(df)\n"
   ]
  },
  {
   "cell_type": "code",
   "execution_count": 104,
   "metadata": {},
   "outputs": [],
   "source": [
    "df = df.reset_index()"
   ]
  },
  {
   "cell_type": "code",
   "execution_count": 106,
   "metadata": {},
   "outputs": [],
   "source": [
    "joined = pd.concat([df, features], axis = 1)"
   ]
  },
  {
   "cell_type": "code",
   "execution_count": 107,
   "metadata": {},
   "outputs": [],
   "source": [
    "# joined.to_csv('allthedummies.csv')"
   ]
  },
  {
   "cell_type": "markdown",
   "metadata": {},
   "source": [
    "## SVC model before resampling\n"
   ]
  },
  {
   "cell_type": "code",
   "execution_count": 5,
   "metadata": {},
   "outputs": [
    {
     "ename": "NameError",
     "evalue": "name 'joined' is not defined",
     "output_type": "error",
     "traceback": [
      "\u001b[0;31m---------------------------------------------------------------------------\u001b[0m",
      "\u001b[0;31mNameError\u001b[0m                                 Traceback (most recent call last)",
      "\u001b[0;32m<ipython-input-5-c3c5e07149f4>\u001b[0m in \u001b[0;36m<module>\u001b[0;34m\u001b[0m\n\u001b[0;32m----> 1\u001b[0;31m \u001b[0mX\u001b[0m \u001b[0;34m=\u001b[0m \u001b[0mjoined\u001b[0m\u001b[0;34m.\u001b[0m\u001b[0mdrop\u001b[0m\u001b[0;34m(\u001b[0m\u001b[0mcolumns\u001b[0m \u001b[0;34m=\u001b[0m \u001b[0;34m'Default'\u001b[0m\u001b[0;34m)\u001b[0m\u001b[0;34m\u001b[0m\u001b[0;34m\u001b[0m\u001b[0m\n\u001b[0m\u001b[1;32m      2\u001b[0m \u001b[0my\u001b[0m \u001b[0;34m=\u001b[0m \u001b[0mjoined\u001b[0m\u001b[0;34m.\u001b[0m\u001b[0mDefault\u001b[0m\u001b[0;34m\u001b[0m\u001b[0;34m\u001b[0m\u001b[0m\n\u001b[1;32m      3\u001b[0m \u001b[0;34m\u001b[0m\u001b[0m\n\u001b[1;32m      4\u001b[0m \u001b[0mX_train\u001b[0m\u001b[0;34m,\u001b[0m \u001b[0mX_test\u001b[0m\u001b[0;34m,\u001b[0m \u001b[0my_train\u001b[0m\u001b[0;34m,\u001b[0m \u001b[0my_test\u001b[0m \u001b[0;34m=\u001b[0m \u001b[0mtrain_test_split\u001b[0m\u001b[0;34m(\u001b[0m\u001b[0mX\u001b[0m\u001b[0;34m,\u001b[0m \u001b[0my\u001b[0m\u001b[0;34m,\u001b[0m \u001b[0mtest_size\u001b[0m \u001b[0;34m=\u001b[0m \u001b[0;36m0.2\u001b[0m\u001b[0;34m,\u001b[0m \u001b[0mrandom_state\u001b[0m\u001b[0;34m=\u001b[0m\u001b[0;36m1\u001b[0m\u001b[0;34m)\u001b[0m\u001b[0;34m\u001b[0m\u001b[0;34m\u001b[0m\u001b[0m\n",
      "\u001b[0;31mNameError\u001b[0m: name 'joined' is not defined"
     ]
    }
   ],
   "source": [
    "X = joined.drop(columns = 'Default')\n",
    "y = joined.Default\n",
    "\n",
    "X_train, X_test, y_train, y_test = train_test_split(X, y, test_size = 0.2, random_state=1)"
   ]
  },
  {
   "cell_type": "markdown",
   "metadata": {},
   "source": [
    "## Fixing class imbalance"
   ]
  },
  {
   "cell_type": "code",
   "execution_count": 4,
   "metadata": {},
   "outputs": [
    {
     "ename": "NameError",
     "evalue": "name 'X_train' is not defined",
     "output_type": "error",
     "traceback": [
      "\u001b[0;31m---------------------------------------------------------------------------\u001b[0m",
      "\u001b[0;31mNameError\u001b[0m                                 Traceback (most recent call last)",
      "\u001b[0;32m<ipython-input-4-1a2843f6eb0e>\u001b[0m in \u001b[0;36m<module>\u001b[0;34m\u001b[0m\n\u001b[1;32m      4\u001b[0m \u001b[0;34m\u001b[0m\u001b[0m\n\u001b[1;32m      5\u001b[0m \u001b[0msm\u001b[0m \u001b[0;34m=\u001b[0m \u001b[0mSMOTE\u001b[0m\u001b[0;34m(\u001b[0m\u001b[0mrandom_state\u001b[0m\u001b[0;34m=\u001b[0m\u001b[0;36m589\u001b[0m\u001b[0;34m,\u001b[0m \u001b[0msampling_strategy\u001b[0m \u001b[0;34m=\u001b[0m \u001b[0;36m1.0\u001b[0m\u001b[0;34m)\u001b[0m\u001b[0;34m\u001b[0m\u001b[0;34m\u001b[0m\u001b[0m\n\u001b[0;32m----> 6\u001b[0;31m \u001b[0mX_train_SMOTE\u001b[0m\u001b[0;34m,\u001b[0m \u001b[0mX_test_SMOTE\u001b[0m\u001b[0;34m,\u001b[0m \u001b[0my_train_SMOTE\u001b[0m\u001b[0;34m,\u001b[0m \u001b[0my_test_SMOTE\u001b[0m \u001b[0;34m=\u001b[0m \u001b[0msm\u001b[0m\u001b[0;34m.\u001b[0m\u001b[0mfit_sample\u001b[0m\u001b[0;34m(\u001b[0m\u001b[0mX_train\u001b[0m\u001b[0;34m,\u001b[0m \u001b[0mX_test\u001b[0m\u001b[0;34m,\u001b[0m \u001b[0my_train\u001b[0m\u001b[0;34m,\u001b[0m \u001b[0my_test\u001b[0m\u001b[0;34m)\u001b[0m\u001b[0;34m\u001b[0m\u001b[0;34m\u001b[0m\u001b[0m\n\u001b[0m\u001b[1;32m      7\u001b[0m \u001b[0mprint\u001b[0m\u001b[0;34m(\u001b[0m\u001b[0mlen\u001b[0m\u001b[0;34m(\u001b[0m\u001b[0my_SMOTE\u001b[0m\u001b[0;34m)\u001b[0m\u001b[0;34m)\u001b[0m\u001b[0;34m\u001b[0m\u001b[0;34m\u001b[0m\u001b[0m\n\u001b[1;32m      8\u001b[0m \u001b[0mprint\u001b[0m\u001b[0;34m(\u001b[0m\u001b[0my_SMOTE\u001b[0m\u001b[0;34m.\u001b[0m\u001b[0msum\u001b[0m\u001b[0;34m(\u001b[0m\u001b[0;34m)\u001b[0m\u001b[0;34m)\u001b[0m\u001b[0;34m\u001b[0m\u001b[0;34m\u001b[0m\u001b[0m\n",
      "\u001b[0;31mNameError\u001b[0m: name 'X_train' is not defined"
     ]
    }
   ],
   "source": [
    "# Upsampling to reduce class imbalance\n",
    "\n",
    "from imblearn.over_sampling import SMOTE\n",
    "\n",
    "sm = SMOTE(random_state=589, sampling_strategy = 1.0)\n",
    "X_train_SMOTE, X_test_SMOTE, y_train_SMOTE, y_test_SMOTE = sm.fit_sample(X_train, X_test, y_train, y_test)\n",
    "print(len(y_SMOTE))\n",
    "print(y_SMOTE.sum())\n"
   ]
  },
  {
   "cell_type": "code",
   "execution_count": 110,
   "metadata": {},
   "outputs": [],
   "source": [
    "scaler = StandardScaler()\n",
    "\n",
    "X_SMOTE_train_scaled = scaler.fit_transform(X_SMOTE)\n",
    "X_test_scaled = scaler.transform(X_test)"
   ]
  },
  {
   "cell_type": "code",
   "execution_count": 111,
   "metadata": {},
   "outputs": [],
   "source": [
    "# SVM results with paramaters tuned with class imbalance fixed"
   ]
  },
  {
   "cell_type": "code",
   "execution_count": 112,
   "metadata": {},
   "outputs": [],
   "source": [
    "###'Dont run unless you got a longlongtime'\n",
    "\n",
    "# param_grid = [\n",
    "#   {'C': [1, 10, 100, 1000], 'gamma': [0.001, 0.0001],'kernel': ['linear']},\n",
    "#   {'C': [1, 10, 100, 1000], 'gamma': [0.001, 0.0001], 'kernel': ['rbf']},\n",
    "#  ]\n",
    "\n",
    "\n",
    "# scores = ['precision', 'recall']\n",
    "\n",
    "# for score in scores:\n",
    "#     print(\"# Tuning hyper-parameters for %s\" % score)\n",
    "#     print()\n",
    "\n",
    "#     clf = GridSearchCV(\n",
    "#         SVC(max_iter = 1000), param_grid, scoring='%s_macro' % score\n",
    "#     )\n",
    "#     clf.fit(X_SMOTE_train_scaled, y_SMOTE)\n",
    "\n",
    "#     print(\"Best parameters set found on development set:\")\n",
    "#     print()\n",
    "#     print(clf.best_params_)\n",
    "#     print()\n",
    "#     print(\"Grid scores on development set:\")\n",
    "#     print()\n",
    "#     means = clf.cv_results_['mean_test_score']\n",
    "#     stds = clf.cv_results_['std_test_score']\n",
    "#     for mean, std, params in zip(means, stds, clf.cv_results_['params']):\n",
    "#         print(\"%0.3f (+/-%0.03f) for %r\"\n",
    "#               % (mean, std * 2, params))\n",
    "#     print()\n",
    "\n",
    "#     print(\"Detailed classification report:\")\n",
    "#     print()\n",
    "#     print(\"The model is trained on the full development set.\")\n",
    "#     print(\"The scores are computed on the full evaluation set.\")\n",
    "#     print()\n",
    "#     y_true, y_pred = y_test, clf.predict(X_test_scaled)\n",
    "#     print(classification_report(y_true, y_pred))\n",
    "#     print()\n",
    "    \n"
   ]
  },
  {
   "cell_type": "code",
   "execution_count": 113,
   "metadata": {},
   "outputs": [],
   "source": [
    "# Tuning hyper-parameters for Precision\n",
    "\n",
    "# Best parameters set found on development set:\n",
    "\n",
    "# {'C': 10, 'gamma': 0.0001, 'kernel': 'rbf'}\n",
    "\n",
    "# Grid scores on development set:\n",
    "\n",
    "# 0.537 (+/-0.117) for {'C': 1, 'gamma': 0.001, 'kernel': 'linear'}\n",
    "# 0.537 (+/-0.117) for {'C': 1, 'gamma': 0.0001, 'kernel': 'linear'}\n",
    "# 0.446 (+/-0.107) for {'C': 10, 'gamma': 0.001, 'kernel': 'linear'}\n",
    "# 0.446 (+/-0.107) for {'C': 10, 'gamma': 0.0001, 'kernel': 'linear'}\n",
    "# 0.425 (+/-0.041) for {'C': 100, 'gamma': 0.001, 'kernel': 'linear'}\n",
    "# 0.425 (+/-0.041) for {'C': 100, 'gamma': 0.0001, 'kernel': 'linear'}\n",
    "# 0.425 (+/-0.041) for {'C': 1000, 'gamma': 0.001, 'kernel': 'linear'}\n",
    "# 0.425 (+/-0.041) for {'C': 1000, 'gamma': 0.0001, 'kernel': 'linear'}\n",
    "# 0.589 (+/-0.063) for {'C': 1, 'gamma': 0.001, 'kernel': 'rbf'}\n",
    "# 0.671 (+/-0.101) for {'C': 1, 'gamma': 0.0001, 'kernel': 'rbf'}\n",
    "# 0.586 (+/-0.054) for {'C': 10, 'gamma': 0.001, 'kernel': 'rbf'}\n",
    "# 0.683 (+/-0.117) for {'C': 10, 'gamma': 0.0001, 'kernel': 'rbf'}\n",
    "# 0.526 (+/-0.078) for {'C': 100, 'gamma': 0.001, 'kernel': 'rbf'}\n",
    "# 0.621 (+/-0.073) for {'C': 100, 'gamma': 0.0001, 'kernel': 'rbf'}\n",
    "# 0.520 (+/-0.149) for {'C': 1000, 'gamma': 0.001, 'kernel': 'rbf'}\n",
    "# 0.569 (+/-0.098) for {'C': 1000, 'gamma': 0.0001, 'kernel': 'rbf'}\n",
    "\n",
    "# Detailed classification report:\n",
    "\n",
    "# The model is trained on the full development set.\n",
    "# The scores are computed on the full evaluation set.\n",
    "\n",
    "#               precision    recall  f1-score   support\n",
    "\n",
    "#            0       1.00      0.00      0.00      4489\n",
    "#            1       0.22      1.00      0.36      1260\n",
    "\n",
    "#     accuracy                           0.22      5749\n",
    "#    macro avg       0.61      0.50      0.18      5749\n",
    "# weighted avg       0.83      0.22      0.08      5749\n",
    "\n",
    "\n",
    "# Tuning hyper-parameters for recall\n",
    "\n",
    "# Best parameters set found on development set:\n",
    "\n",
    "# {'C': 1, 'gamma': 0.001, 'kernel': 'linear'}\n",
    "\n",
    "# Grid scores on development set:\n",
    "\n",
    "# 0.527 (+/-0.084) for {'C': 1, 'gamma': 0.001, 'kernel': 'linear'}\n",
    "# 0.527 (+/-0.084) for {'C': 1, 'gamma': 0.0001, 'kernel': 'linear'}\n",
    "# 0.464 (+/-0.071) for {'C': 10, 'gamma': 0.001, 'kernel': 'linear'}\n",
    "# 0.464 (+/-0.071) for {'C': 10, 'gamma': 0.0001, 'kernel': 'linear'}\n",
    "# 0.443 (+/-0.064) for {'C': 100, 'gamma': 0.001, 'kernel': 'linear'}\n",
    "# 0.443 (+/-0.064) for {'C': 100, 'gamma': 0.0001, 'kernel': 'linear'}\n",
    "# 0.443 (+/-0.064) for {'C': 1000, 'gamma': 0.001, 'kernel': 'linear'}\n",
    "# 0.443 (+/-0.064) for {'C': 1000, 'gamma': 0.0001, 'kernel': 'linear'}\n",
    "# 0.505 (+/-0.003) for {'C': 1, 'gamma': 0.001, 'kernel': 'rbf'}\n",
    "# 0.502 (+/-0.001) for {'C': 1, 'gamma': 0.0001, 'kernel': 'rbf'}\n",
    "# 0.505 (+/-0.002) for {'C': 10, 'gamma': 0.001, 'kernel': 'rbf'}\n",
    "# 0.501 (+/-0.002) for {'C': 10, 'gamma': 0.0001, 'kernel': 'rbf'}\n",
    "# 0.502 (+/-0.018) for {'C': 100, 'gamma': 0.001, 'kernel': 'rbf'}\n",
    "# 0.503 (+/-0.002) for {'C': 100, 'gamma': 0.0001, 'kernel': 'rbf'}\n",
    "# 0.504 (+/-0.103) for {'C': 1000, 'gamma': 0.001, 'kernel': 'rbf'}\n",
    "# 0.508 (+/-0.012) for {'C': 1000, 'gamma': 0.0001, 'kernel': 'rbf'}\n",
    "\n",
    "# Detailed classification report:\n",
    "\n",
    "# The model is trained on the full development set.\n",
    "# The scores are computed on the full evaluation set.\n",
    "\n",
    "#               precision    recall  f1-score   support\n",
    "\n",
    "#            0       0.77      0.16      0.26      4489\n",
    "#            1       0.22      0.83      0.34      1260\n",
    "\n",
    "#     accuracy                           0.30      5749\n",
    "#    macro avg       0.49      0.49      0.30      5749\n",
    "# weighted avg       0.65      0.30      0.28      5749\n"
   ]
  },
  {
   "cell_type": "code",
   "execution_count": 114,
   "metadata": {},
   "outputs": [
    {
     "name": "stderr",
     "output_type": "stream",
     "text": [
      "/Users/carterbouley/anaconda3/envs/learn-env/lib/python3.6/site-packages/sklearn/svm/base.py:193: FutureWarning: The default value of gamma will change from 'auto' to 'scale' in version 0.22 to account better for unscaled features. Set gamma explicitly to 'auto' or 'scale' to avoid this warning.\n",
      "  \"avoid this warning.\", FutureWarning)\n",
      "/Users/carterbouley/anaconda3/envs/learn-env/lib/python3.6/site-packages/sklearn/svm/base.py:241: ConvergenceWarning: Solver terminated early (max_iter=20).  Consider pre-processing your data with StandardScaler or MinMaxScaler.\n",
      "  % self.max_iter, ConvergenceWarning)\n"
     ]
    },
    {
     "data": {
      "text/plain": [
       "SVC(C=1, cache_size=200, class_weight=None, coef0=0.0,\n",
       "    decision_function_shape='ovr', degree=3, gamma='auto_deprecated',\n",
       "    kernel='rbf', max_iter=20, probability=True, random_state=None,\n",
       "    shrinking=True, tol=0.001, verbose=False)"
      ]
     },
     "execution_count": 114,
     "metadata": {},
     "output_type": "execute_result"
    }
   ],
   "source": [
    "svc_lin_clf = SVC(C=1, probability = True, max_iter = 20)\n",
    "\n",
    "\n",
    "svc_lin_clf.fit(X_SMOTE_train_scaled, y_SMOTE)"
   ]
  },
  {
   "cell_type": "code",
   "execution_count": 115,
   "metadata": {},
   "outputs": [
    {
     "name": "stdout",
     "output_type": "stream",
     "text": [
      "              precision    recall  f1-score   support\n",
      "\n",
      "           0       0.78      1.00      0.88      4489\n",
      "           1       0.00      0.00      0.00      1260\n",
      "\n",
      "    accuracy                           0.78      5749\n",
      "   macro avg       0.39      0.50      0.44      5749\n",
      "weighted avg       0.61      0.78      0.68      5749\n",
      "\n"
     ]
    },
    {
     "name": "stderr",
     "output_type": "stream",
     "text": [
      "/Users/carterbouley/anaconda3/envs/learn-env/lib/python3.6/site-packages/sklearn/metrics/classification.py:1437: UndefinedMetricWarning: Precision and F-score are ill-defined and being set to 0.0 in labels with no predicted samples.\n",
      "  'precision', 'predicted', average, warn_for)\n"
     ]
    }
   ],
   "source": [
    "y_true, y_pred = y_test, svc_lin_clf.predict(X_test)\n",
    "y_probs = svc_lin_clf.predict_proba(X_test)\n",
    "\n",
    "\n",
    "print(classification_report(y_true, y_pred))"
   ]
  },
  {
   "cell_type": "code",
   "execution_count": 116,
   "metadata": {},
   "outputs": [
    {
     "data": {
      "text/plain": [
       "array([[0.5814984, 0.4185016],\n",
       "       [0.5814984, 0.4185016],\n",
       "       [0.5814984, 0.4185016],\n",
       "       ...,\n",
       "       [0.5814984, 0.4185016],\n",
       "       [0.5814984, 0.4185016],\n",
       "       [0.5814984, 0.4185016]])"
      ]
     },
     "execution_count": 116,
     "metadata": {},
     "output_type": "execute_result"
    }
   ],
   "source": [
    "y_probs"
   ]
  },
  {
   "cell_type": "code",
   "execution_count": 117,
   "metadata": {},
   "outputs": [
    {
     "name": "stdout",
     "output_type": "stream",
     "text": [
      "No Skill: ROC AUC=0.500\n",
      "Support Vinear Machines: ROC AUC=0.500\n"
     ]
    },
    {
     "data": {
      "image/png": "[encoded data removed]",
      "text/plain": [
       "<Figure size 432x288 with 1 Axes>"
      ]
     },
     "metadata": {
      "needs_background": "light"
     },
     "output_type": "display_data"
    }
   ],
   "source": [
    "\n",
    "fpr, tpr, thresholds = roc_curve(y_test, y_probs[:,1])\n",
    "\n",
    "\n",
    "ns_probs = [0 for _ in range(len(y_probs[:,1]))]\n",
    "ns_auc = roc_auc_score(y_test, ns_probs)\n",
    "svm_auc = roc_auc_score(y_test, y_probs[:,1])\n",
    "\n",
    "\n",
    "print('No Skill: ROC AUC=%.3f' % (ns_auc))\n",
    "print('Support Vinear Machines: ROC AUC=%.3f' % (svm_auc))\n",
    "\n",
    "ns_fpr, ns_tpr, _ = roc_curve(y_test, ns_probs)\n",
    "lr_fpr, lr_tpr, _ = roc_curve(y_test, y_probs[:,1])\n",
    "\n",
    "\n",
    "plt.plot(ns_fpr, ns_tpr, linestyle='--', label='No Skill')\n",
    "plt.plot(fpr, tpr, marker='.', label='Logistic')\n",
    "\n",
    "plt.xlabel('False Positive Rate')\n",
    "plt.ylabel('True Positive Rate')\n",
    "# show the legend\n",
    "plt.legend()\n",
    "# show the plot\n",
    "plt.show()"
   ]
  },
  {
   "cell_type": "markdown",
   "metadata": {},
   "source": [
    "### Logistic Regression model"
   ]
  },
  {
   "cell_type": "code",
   "execution_count": 118,
   "metadata": {},
   "outputs": [],
   "source": [
    "log_reg_clf = LogisticRegression()"
   ]
  },
  {
   "cell_type": "code",
   "execution_count": 119,
   "metadata": {},
   "outputs": [
    {
     "name": "stderr",
     "output_type": "stream",
     "text": [
      "/Users/carterbouley/anaconda3/envs/learn-env/lib/python3.6/site-packages/sklearn/linear_model/logistic.py:432: FutureWarning: Default solver will be changed to 'lbfgs' in 0.22. Specify a solver to silence this warning.\n",
      "  FutureWarning)\n"
     ]
    },
    {
     "data": {
      "text/plain": [
       "LogisticRegression(C=1.0, class_weight=None, dual=False, fit_intercept=True,\n",
       "                   intercept_scaling=1, l1_ratio=None, max_iter=100,\n",
       "                   multi_class='warn', n_jobs=None, penalty='l2',\n",
       "                   random_state=None, solver='warn', tol=0.0001, verbose=0,\n",
       "                   warm_start=False)"
      ]
     },
     "execution_count": 119,
     "metadata": {},
     "output_type": "execute_result"
    }
   ],
   "source": [
    "log_reg_clf.fit(X_SMOTE_train_scaled, y_SMOTE)"
   ]
  },
  {
   "cell_type": "code",
   "execution_count": 120,
   "metadata": {},
   "outputs": [],
   "source": [
    "y_pred = log_reg_clf.predict(X_test_scaled)\n",
    "y_probs = log_reg_clf.predict_proba(X_test_scaled)"
   ]
  },
  {
   "cell_type": "code",
   "execution_count": 121,
   "metadata": {},
   "outputs": [
    {
     "data": {
      "text/plain": [
       "{'0': {'precision': 0.8715909090909091,\n",
       "  'recall': 0.8543105368678993,\n",
       "  'f1-score': 0.8628642141973224,\n",
       "  'support': 4489},\n",
       " '1': {'precision': 0.5151964418087472,\n",
       "  'recall': 0.5515873015873016,\n",
       "  'f1-score': 0.5327711766960522,\n",
       "  'support': 1260},\n",
       " 'accuracy': 0.787963124021569,\n",
       " 'macro avg': {'precision': 0.6933936754498282,\n",
       "  'recall': 0.7029489192276004,\n",
       "  'f1-score': 0.6978176954466873,\n",
       "  'support': 5749},\n",
       " 'weighted avg': {'precision': 0.7934804500936011,\n",
       "  'recall': 0.787963124021569,\n",
       "  'f1-score': 0.7905182014556977,\n",
       "  'support': 5749}}"
      ]
     },
     "execution_count": 121,
     "metadata": {},
     "output_type": "execute_result"
    }
   ],
   "source": [
    "classification_report(y_test, y_pred, output_dict=True)"
   ]
  },
  {
   "cell_type": "code",
   "execution_count": 122,
   "metadata": {},
   "outputs": [
    {
     "name": "stdout",
     "output_type": "stream",
     "text": [
      "No Skill: ROC AUC=0.500\n",
      "Logistic: ROC AUC=0.764\n"
     ]
    },
    {
     "data": {
      "image/png": "[encoded data removed]",
      "text/plain": [
       "<Figure size 432x288 with 1 Axes>"
      ]
     },
     "metadata": {
      "needs_background": "light"
     },
     "output_type": "display_data"
    }
   ],
   "source": [
    "\n",
    "fpr, tpr, thresholds = roc_curve(y_test, y_probs[:,1])\n",
    "\n",
    "\n",
    "ns_probs = [0 for _ in range(len(y_test))]\n",
    "ns_auc = roc_auc_score(y_test, ns_probs)\n",
    "lr_auc = roc_auc_score(y_test, y_probs[:,1])\n",
    "\n",
    "\n",
    "print('No Skill: ROC AUC=%.3f' % (ns_auc))\n",
    "print('Logistic: ROC AUC=%.3f' % (lr_auc))\n",
    "\n",
    "ns_fpr, ns_tpr, _ = roc_curve(y_test, ns_probs)\n",
    "lr_fpr, lr_tpr, _ = roc_curve(y_test, y_probs[:,1])\n",
    "\n",
    "\n",
    "plt.plot(ns_fpr, ns_tpr, linestyle='--', label='No Skill')\n",
    "plt.plot(fpr, tpr, marker='.', label='Logistic')\n",
    "\n",
    "plt.xlabel('False Positive Rate')\n",
    "plt.ylabel('True Positive Rate')\n",
    "# show the legend\n",
    "plt.legend()\n",
    "# show the plot\n",
    "plt.show()\n"
   ]
  },
  {
   "cell_type": "code",
   "execution_count": 176,
   "metadata": {},
   "outputs": [
    {
     "data": {
      "text/plain": [
       "88"
      ]
     },
     "execution_count": 176,
     "metadata": {},
     "output_type": "execute_result"
    }
   ],
   "source": [
    "len(log_reg_clf.coef_.T)"
   ]
  },
  {
   "cell_type": "code",
   "execution_count": 198,
   "metadata": {},
   "outputs": [
    {
     "ename": "NameError",
     "evalue": "name 'lennp' is not defined",
     "output_type": "error",
     "traceback": [
      "\u001b[0;31m---------------------------------------------------------------------------\u001b[0m",
      "\u001b[0;31mNameError\u001b[0m                                 Traceback (most recent call last)",
      "\u001b[0;32m<ipython-input-198-dfc970b435fb>\u001b[0m in \u001b[0;36m<module>\u001b[0;34m\u001b[0m\n\u001b[0;32m----> 1\u001b[0;31m \u001b[0mlennp\u001b[0m\u001b[0;34m.\u001b[0m\u001b[0marray\u001b[0m\u001b[0;34m(\u001b[0m\u001b[0;34m[\u001b[0m\u001b[0mjoined\u001b[0m\u001b[0;34m.\u001b[0m\u001b[0mcolumns\u001b[0m\u001b[0;34m[\u001b[0m\u001b[0;34m:\u001b[0m\u001b[0;34m]\u001b[0m\u001b[0;34m]\u001b[0m\u001b[0;34m)\u001b[0m\u001b[0;34m.\u001b[0m\u001b[0mT\u001b[0m\u001b[0;34m\u001b[0m\u001b[0;34m\u001b[0m\u001b[0m\n\u001b[0m",
      "\u001b[0;31mNameError\u001b[0m: name 'lennp' is not defined"
     ]
    }
   ],
   "source": [
    "lennp.array([joined.columns[:]]).T"
   ]
  },
  {
   "cell_type": "code",
   "execution_count": 264,
   "metadata": {},
   "outputs": [
    {
     "data": {
      "text/plain": [
       "Index(['index', 'ID', 'CreditLimit', 'Age', 'RepayStatApr', 'RepayStatMay',\n",
       "       'RepayStatJun', 'RepayStatJul', 'RepayStatAug', 'RepayStatSep',\n",
       "       'BillApr', 'BillMay', 'BillJun', 'BillJul', 'BillAug', 'BillSep',\n",
       "       'PrevPaymentApr', 'PrevPaymentMay', 'PrevPaymentJun', 'PrevPaymentJul',\n",
       "       'PrevPaymentAug', 'PrevPaymentSep', 'Default', 'average_bill',\n",
       "       'average_payment', 'total_payment', 'average_percentage_of_bill_paid',\n",
       "       'bill_paid/credit_limit', 'average_bill_paid/credit_limit',\n",
       "       'Gender_female', 'Gender_male', 'Education_graduate school',\n",
       "       'Education_high school', 'Education_others', 'Education_university',\n",
       "       'MaritalStatus_married', 'MaritalStatus_others', 'MaritalStatus_single',\n",
       "       '1', 'Gender_female Education_graduate school',\n",
       "       'Gender_female Education_high school', 'Gender_female Education_others',\n",
       "       'Gender_female Education_university',\n",
       "       'Gender_female MaritalStatus_married',\n",
       "       'Gender_female MaritalStatus_others',\n",
       "       'Gender_female MaritalStatus_single',\n",
       "       'Gender_male Education_graduate school',\n",
       "       'Gender_male Education_high school', 'Gender_male Education_others',\n",
       "       'Gender_male Education_university', 'Gender_male MaritalStatus_married',\n",
       "       'Gender_male MaritalStatus_others', 'Gender_male MaritalStatus_single',\n",
       "       'Education_graduate school MaritalStatus_married',\n",
       "       'Education_graduate school MaritalStatus_others',\n",
       "       'Education_graduate school MaritalStatus_single',\n",
       "       'Education_high school MaritalStatus_married',\n",
       "       'Education_high school MaritalStatus_others',\n",
       "       'Education_high school MaritalStatus_single',\n",
       "       'Education_others MaritalStatus_married',\n",
       "       'Education_others MaritalStatus_others',\n",
       "       'Education_others MaritalStatus_single',\n",
       "       'Education_university MaritalStatus_married',\n",
       "       'Education_university MaritalStatus_others',\n",
       "       'Education_university MaritalStatus_single',\n",
       "       'Gender_female Education_graduate school MaritalStatus_married',\n",
       "       'Gender_female Education_graduate school MaritalStatus_others',\n",
       "       'Gender_female Education_graduate school MaritalStatus_single',\n",
       "       'Gender_female Education_high school MaritalStatus_married',\n",
       "       'Gender_female Education_high school MaritalStatus_others',\n",
       "       'Gender_female Education_high school MaritalStatus_single',\n",
       "       'Gender_female Education_others MaritalStatus_married',\n",
       "       'Gender_female Education_others MaritalStatus_others',\n",
       "       'Gender_female Education_others MaritalStatus_single',\n",
       "       'Gender_female Education_university MaritalStatus_married',\n",
       "       'Gender_female Education_university MaritalStatus_others',\n",
       "       'Gender_female Education_university MaritalStatus_single',\n",
       "       'Gender_male Education_graduate school MaritalStatus_married',\n",
       "       'Gender_male Education_graduate school MaritalStatus_others',\n",
       "       'Gender_male Education_graduate school MaritalStatus_single',\n",
       "       'Gender_male Education_high school MaritalStatus_married',\n",
       "       'Gender_male Education_high school MaritalStatus_others',\n",
       "       'Gender_male Education_high school MaritalStatus_single',\n",
       "       'Gender_male Education_others MaritalStatus_married',\n",
       "       'Gender_male Education_others MaritalStatus_others',\n",
       "       'Gender_male Education_others MaritalStatus_single',\n",
       "       'Gender_male Education_university MaritalStatus_married',\n",
       "       'Gender_male Education_university MaritalStatus_others',\n",
       "       'Gender_male Education_university MaritalStatus_single'],\n",
       "      dtype='object')"
      ]
     },
     "execution_count": 264,
     "metadata": {},
     "output_type": "execute_result"
    }
   ],
   "source": [
    "joined.columns"
   ]
  },
  {
   "cell_type": "code",
   "execution_count": 269,
   "metadata": {},
   "outputs": [
    {
     "data": {
      "text/plain": [
       "88"
      ]
     },
     "execution_count": 269,
     "metadata": {},
     "output_type": "execute_result"
    }
   ],
   "source": [
    "len((np.array([X_test.columns[:]]).T))"
   ]
  },
  {
   "cell_type": "code",
   "execution_count": 306,
   "metadata": {},
   "outputs": [],
   "source": [
    "feature_importance=pd.DataFrame(np.hstack((np.array([X_test.columns[:]]).T, log_reg_clf.coef_.T)), columns=['feature', 'importance'])"
   ]
  },
  {
   "cell_type": "code",
   "execution_count": 307,
   "metadata": {},
   "outputs": [],
   "source": [
    "feature_importance\n",
    "\n",
    "mean = feature_importance.importance.mean()\n",
    "std = feature_importance.importance.std()\n",
    "coef_lista = []\n",
    "for row in feature_importance.importance:\n",
    "    new_calc = ((row - mean)/(std))\n",
    "    coef_lista.append(new_calc)\n"
   ]
  },
  {
   "cell_type": "code",
   "execution_count": 308,
   "metadata": {},
   "outputs": [
    {
     "data": {
      "text/plain": [
       "0.11595884005315144"
      ]
     },
     "execution_count": 308,
     "metadata": {},
     "output_type": "execute_result"
    }
   ],
   "source": [
    "feature_importance.importance.std()"
   ]
  },
  {
   "cell_type": "code",
   "execution_count": 309,
   "metadata": {},
   "outputs": [],
   "source": [
    "scaler = MinMaxScaler()"
   ]
  },
  {
   "cell_type": "code",
   "execution_count": 310,
   "metadata": {},
   "outputs": [],
   "source": [
    "# coef_scaled = scaler.fit_transform(np.array(feature_importance.importance).reshape(-1,1))"
   ]
  },
  {
   "cell_type": "code",
   "execution_count": 311,
   "metadata": {},
   "outputs": [],
   "source": [
    "feature_importance['coef_importance_scaled'] = coef_lista"
   ]
  },
  {
   "cell_type": "code",
   "execution_count": 313,
   "metadata": {},
   "outputs": [],
   "source": [
    "importances = feature_importance.reindex(feature_importance.coef_importance_scaled.abs().sort_values(ascending = False).index)"
   ]
  },
  {
   "cell_type": "code",
   "execution_count": 317,
   "metadata": {},
   "outputs": [
    {
     "data": {
      "text/html": [
       "<div>\n",
       "<style scoped>\n",
       "    .dataframe tbody tr th:only-of-type {\n",
       "        vertical-align: middle;\n",
       "    }\n",
       "\n",
       "    .dataframe tbody tr th {\n",
       "        vertical-align: top;\n",
       "    }\n",
       "\n",
       "    .dataframe thead th {\n",
       "        text-align: right;\n",
       "    }\n",
       "</style>\n",
       "<table border=\"1\" class=\"dataframe\">\n",
       "  <thead>\n",
       "    <tr style=\"text-align: right;\">\n",
       "      <th></th>\n",
       "      <th>feature</th>\n",
       "      <th>importance</th>\n",
       "      <th>coef_importance_scaled</th>\n",
       "    </tr>\n",
       "  </thead>\n",
       "  <tbody>\n",
       "    <tr>\n",
       "      <td>4</td>\n",
       "      <td>RepayStatApr</td>\n",
       "      <td>0.919574</td>\n",
       "      <td>7.837433</td>\n",
       "    </tr>\n",
       "    <tr>\n",
       "      <td>11</td>\n",
       "      <td>BillMay</td>\n",
       "      <td>0.267128</td>\n",
       "      <td>2.210903</td>\n",
       "    </tr>\n",
       "    <tr>\n",
       "      <td>10</td>\n",
       "      <td>BillApr</td>\n",
       "      <td>-0.243926</td>\n",
       "      <td>-2.196292</td>\n",
       "    </tr>\n",
       "    <tr>\n",
       "      <td>2</td>\n",
       "      <td>CreditLimit</td>\n",
       "      <td>-0.220399</td>\n",
       "      <td>-1.993404</td>\n",
       "    </tr>\n",
       "    <tr>\n",
       "      <td>12</td>\n",
       "      <td>BillJun</td>\n",
       "      <td>0.172502</td>\n",
       "      <td>1.394876</td>\n",
       "    </tr>\n",
       "    <tr>\n",
       "      <td>16</td>\n",
       "      <td>PrevPaymentApr</td>\n",
       "      <td>-0.138535</td>\n",
       "      <td>-1.287430</td>\n",
       "    </tr>\n",
       "    <tr>\n",
       "      <td>6</td>\n",
       "      <td>RepayStatJun</td>\n",
       "      <td>0.134905</td>\n",
       "      <td>1.070645</td>\n",
       "    </tr>\n",
       "    <tr>\n",
       "      <td>14</td>\n",
       "      <td>BillAug</td>\n",
       "      <td>-0.108169</td>\n",
       "      <td>-1.025563</td>\n",
       "    </tr>\n",
       "    <tr>\n",
       "      <td>9</td>\n",
       "      <td>RepayStatSep</td>\n",
       "      <td>0.124936</td>\n",
       "      <td>0.984673</td>\n",
       "    </tr>\n",
       "    <tr>\n",
       "      <td>5</td>\n",
       "      <td>RepayStatMay</td>\n",
       "      <td>0.121991</td>\n",
       "      <td>0.959283</td>\n",
       "    </tr>\n",
       "    <tr>\n",
       "      <td>8</td>\n",
       "      <td>RepayStatAug</td>\n",
       "      <td>0.121695</td>\n",
       "      <td>0.956728</td>\n",
       "    </tr>\n",
       "    <tr>\n",
       "      <td>13</td>\n",
       "      <td>BillJul</td>\n",
       "      <td>-0.0631864</td>\n",
       "      <td>-0.637643</td>\n",
       "    </tr>\n",
       "    <tr>\n",
       "      <td>7</td>\n",
       "      <td>RepayStatJul</td>\n",
       "      <td>0.0789228</td>\n",
       "      <td>0.587872</td>\n",
       "    </tr>\n",
       "    <tr>\n",
       "      <td>24</td>\n",
       "      <td>total_payment</td>\n",
       "      <td>-0.0517688</td>\n",
       "      <td>-0.539180</td>\n",
       "    </tr>\n",
       "    <tr>\n",
       "      <td>23</td>\n",
       "      <td>average_payment</td>\n",
       "      <td>-0.0517688</td>\n",
       "      <td>-0.539180</td>\n",
       "    </tr>\n",
       "    <tr>\n",
       "      <td>17</td>\n",
       "      <td>PrevPaymentMay</td>\n",
       "      <td>-0.0514476</td>\n",
       "      <td>-0.536411</td>\n",
       "    </tr>\n",
       "    <tr>\n",
       "      <td>25</td>\n",
       "      <td>average_percentage_of_bill_paid</td>\n",
       "      <td>-0.0354144</td>\n",
       "      <td>-0.398144</td>\n",
       "    </tr>\n",
       "    <tr>\n",
       "      <td>15</td>\n",
       "      <td>BillSep</td>\n",
       "      <td>0.0515764</td>\n",
       "      <td>0.352043</td>\n",
       "    </tr>\n",
       "    <tr>\n",
       "      <td>27</td>\n",
       "      <td>average_bill_paid/credit_limit</td>\n",
       "      <td>-0.0238978</td>\n",
       "      <td>-0.298828</td>\n",
       "    </tr>\n",
       "    <tr>\n",
       "      <td>26</td>\n",
       "      <td>bill_paid/credit_limit</td>\n",
       "      <td>-0.0238978</td>\n",
       "      <td>-0.298828</td>\n",
       "    </tr>\n",
       "    <tr>\n",
       "      <td>36</td>\n",
       "      <td>MaritalStatus_single</td>\n",
       "      <td>-0.0182756</td>\n",
       "      <td>-0.250344</td>\n",
       "    </tr>\n",
       "    <tr>\n",
       "      <td>66</td>\n",
       "      <td>Gender_female Education_graduate school Marita...</td>\n",
       "      <td>-0.0173766</td>\n",
       "      <td>-0.242591</td>\n",
       "    </tr>\n",
       "    <tr>\n",
       "      <td>69</td>\n",
       "      <td>Gender_female Education_high school MaritalSta...</td>\n",
       "      <td>-0.0156263</td>\n",
       "      <td>-0.227497</td>\n",
       "    </tr>\n",
       "    <tr>\n",
       "      <td>0</td>\n",
       "      <td>index</td>\n",
       "      <td>-0.0154169</td>\n",
       "      <td>-0.225691</td>\n",
       "    </tr>\n",
       "    <tr>\n",
       "      <td>1</td>\n",
       "      <td>ID</td>\n",
       "      <td>-0.0154169</td>\n",
       "      <td>-0.225691</td>\n",
       "    </tr>\n",
       "    <tr>\n",
       "      <td>44</td>\n",
       "      <td>Gender_female MaritalStatus_single</td>\n",
       "      <td>-0.0151668</td>\n",
       "      <td>-0.223534</td>\n",
       "    </tr>\n",
       "    <tr>\n",
       "      <td>71</td>\n",
       "      <td>Gender_female Education_others MaritalStatus_o...</td>\n",
       "      <td>-0.0147109</td>\n",
       "      <td>-0.219602</td>\n",
       "    </tr>\n",
       "    <tr>\n",
       "      <td>59</td>\n",
       "      <td>Education_others MaritalStatus_others</td>\n",
       "      <td>-0.0147109</td>\n",
       "      <td>-0.219602</td>\n",
       "    </tr>\n",
       "    <tr>\n",
       "      <td>54</td>\n",
       "      <td>Education_graduate school MaritalStatus_single</td>\n",
       "      <td>-0.0147096</td>\n",
       "      <td>-0.219591</td>\n",
       "    </tr>\n",
       "    <tr>\n",
       "      <td>73</td>\n",
       "      <td>Gender_female Education_university MaritalStat...</td>\n",
       "      <td>-0.0146991</td>\n",
       "      <td>-0.219501</td>\n",
       "    </tr>\n",
       "    <tr>\n",
       "      <td>28</td>\n",
       "      <td>Gender_female</td>\n",
       "      <td>-0.0143794</td>\n",
       "      <td>-0.216744</td>\n",
       "    </tr>\n",
       "    <tr>\n",
       "      <td>40</td>\n",
       "      <td>Gender_female Education_others</td>\n",
       "      <td>-0.0112326</td>\n",
       "      <td>-0.189606</td>\n",
       "    </tr>\n",
       "    <tr>\n",
       "      <td>57</td>\n",
       "      <td>Education_high school MaritalStatus_single</td>\n",
       "      <td>-0.011049</td>\n",
       "      <td>-0.188023</td>\n",
       "    </tr>\n",
       "    <tr>\n",
       "      <td>80</td>\n",
       "      <td>Gender_male Education_high school MaritalStatu...</td>\n",
       "      <td>-0.0108382</td>\n",
       "      <td>-0.186205</td>\n",
       "    </tr>\n",
       "    <tr>\n",
       "      <td>58</td>\n",
       "      <td>Education_others MaritalStatus_married</td>\n",
       "      <td>-0.00934165</td>\n",
       "      <td>-0.173299</td>\n",
       "    </tr>\n",
       "    <tr>\n",
       "      <td>70</td>\n",
       "      <td>Gender_female Education_others MaritalStatus_m...</td>\n",
       "      <td>-0.00924571</td>\n",
       "      <td>-0.172472</td>\n",
       "    </tr>\n",
       "    <tr>\n",
       "      <td>32</td>\n",
       "      <td>Education_others</td>\n",
       "      <td>-0.00795648</td>\n",
       "      <td>-0.161354</td>\n",
       "    </tr>\n",
       "    <tr>\n",
       "      <td>39</td>\n",
       "      <td>Gender_female Education_high school</td>\n",
       "      <td>-0.00761182</td>\n",
       "      <td>-0.158382</td>\n",
       "    </tr>\n",
       "    <tr>\n",
       "      <td>56</td>\n",
       "      <td>Education_high school MaritalStatus_others</td>\n",
       "      <td>-0.00738446</td>\n",
       "      <td>-0.156421</td>\n",
       "    </tr>\n",
       "    <tr>\n",
       "      <td>87</td>\n",
       "      <td>Gender_male Education_university MaritalStatus...</td>\n",
       "      <td>-0.00706004</td>\n",
       "      <td>-0.153623</td>\n",
       "    </tr>\n",
       "    <tr>\n",
       "      <td>20</td>\n",
       "      <td>PrevPaymentAug</td>\n",
       "      <td>-0.00690357</td>\n",
       "      <td>-0.152274</td>\n",
       "    </tr>\n",
       "    <tr>\n",
       "      <td>41</td>\n",
       "      <td>Gender_female Education_university</td>\n",
       "      <td>-0.00645197</td>\n",
       "      <td>-0.148379</td>\n",
       "    </tr>\n",
       "    <tr>\n",
       "      <td>65</td>\n",
       "      <td>Gender_female Education_graduate school Marita...</td>\n",
       "      <td>-0.00639249</td>\n",
       "      <td>-0.147867</td>\n",
       "    </tr>\n",
       "    <tr>\n",
       "      <td>31</td>\n",
       "      <td>Education_high school</td>\n",
       "      <td>-0.00581087</td>\n",
       "      <td>-0.142851</td>\n",
       "    </tr>\n",
       "    <tr>\n",
       "      <td>51</td>\n",
       "      <td>Gender_male MaritalStatus_single</td>\n",
       "      <td>-0.00514578</td>\n",
       "      <td>-0.137115</td>\n",
       "    </tr>\n",
       "    <tr>\n",
       "      <td>72</td>\n",
       "      <td>Gender_female Education_others MaritalStatus_s...</td>\n",
       "      <td>-0.00465643</td>\n",
       "      <td>-0.132895</td>\n",
       "    </tr>\n",
       "    <tr>\n",
       "      <td>82</td>\n",
       "      <td>Gender_male Education_others MaritalStatus_mar...</td>\n",
       "      <td>-0.0034397</td>\n",
       "      <td>-0.122402</td>\n",
       "    </tr>\n",
       "    <tr>\n",
       "      <td>38</td>\n",
       "      <td>Gender_female Education_graduate school</td>\n",
       "      <td>-0.00337585</td>\n",
       "      <td>-0.121852</td>\n",
       "    </tr>\n",
       "    <tr>\n",
       "      <td>19</td>\n",
       "      <td>PrevPaymentJul</td>\n",
       "      <td>-0.00230383</td>\n",
       "      <td>-0.112607</td>\n",
       "    </tr>\n",
       "    <tr>\n",
       "      <td>49</td>\n",
       "      <td>Gender_male MaritalStatus_married</td>\n",
       "      <td>0.0236737</td>\n",
       "      <td>0.111417</td>\n",
       "    </tr>\n",
       "    <tr>\n",
       "      <td>68</td>\n",
       "      <td>Gender_female Education_high school MaritalSta...</td>\n",
       "      <td>-0.00141147</td>\n",
       "      <td>-0.104911</td>\n",
       "    </tr>\n",
       "    <tr>\n",
       "      <td>52</td>\n",
       "      <td>Education_graduate school MaritalStatus_married</td>\n",
       "      <td>0.0226324</td>\n",
       "      <td>0.102437</td>\n",
       "    </tr>\n",
       "    <tr>\n",
       "      <td>60</td>\n",
       "      <td>Education_others MaritalStatus_single</td>\n",
       "      <td>-0.00076906</td>\n",
       "      <td>-0.099371</td>\n",
       "    </tr>\n",
       "    <tr>\n",
       "      <td>78</td>\n",
       "      <td>Gender_male Education_graduate school MaritalS...</td>\n",
       "      <td>-0.000716808</td>\n",
       "      <td>-0.098921</td>\n",
       "    </tr>\n",
       "    <tr>\n",
       "      <td>63</td>\n",
       "      <td>Education_university MaritalStatus_single</td>\n",
       "      <td>-0.000713115</td>\n",
       "      <td>-0.098889</td>\n",
       "    </tr>\n",
       "    <tr>\n",
       "      <td>42</td>\n",
       "      <td>Gender_female MaritalStatus_married</td>\n",
       "      <td>-0.000629772</td>\n",
       "      <td>-0.098170</td>\n",
       "    </tr>\n",
       "    <tr>\n",
       "      <td>85</td>\n",
       "      <td>Gender_male Education_university MaritalStatus...</td>\n",
       "      <td>0.0218069</td>\n",
       "      <td>0.095318</td>\n",
       "    </tr>\n",
       "    <tr>\n",
       "      <td>37</td>\n",
       "      <td>1</td>\n",
       "      <td>0</td>\n",
       "      <td>-0.092739</td>\n",
       "    </tr>\n",
       "    <tr>\n",
       "      <td>83</td>\n",
       "      <td>Gender_male Education_others MaritalStatus_others</td>\n",
       "      <td>0</td>\n",
       "      <td>-0.092739</td>\n",
       "    </tr>\n",
       "    <tr>\n",
       "      <td>21</td>\n",
       "      <td>PrevPaymentSep</td>\n",
       "      <td>0.0214222</td>\n",
       "      <td>0.092001</td>\n",
       "    </tr>\n",
       "    <tr>\n",
       "      <td>46</td>\n",
       "      <td>Gender_male Education_high school</td>\n",
       "      <td>0.000421812</td>\n",
       "      <td>-0.089102</td>\n",
       "    </tr>\n",
       "    <tr>\n",
       "      <td>81</td>\n",
       "      <td>Gender_male Education_high school MaritalStatu...</td>\n",
       "      <td>0.000530756</td>\n",
       "      <td>-0.088162</td>\n",
       "    </tr>\n",
       "    <tr>\n",
       "      <td>47</td>\n",
       "      <td>Gender_male Education_others</td>\n",
       "      <td>0.00135766</td>\n",
       "      <td>-0.081031</td>\n",
       "    </tr>\n",
       "    <tr>\n",
       "      <td>61</td>\n",
       "      <td>Education_university MaritalStatus_married</td>\n",
       "      <td>0.00189724</td>\n",
       "      <td>-0.076378</td>\n",
       "    </tr>\n",
       "    <tr>\n",
       "      <td>53</td>\n",
       "      <td>Education_graduate school MaritalStatus_others</td>\n",
       "      <td>0.00195858</td>\n",
       "      <td>-0.075849</td>\n",
       "    </tr>\n",
       "    <tr>\n",
       "      <td>50</td>\n",
       "      <td>Gender_male MaritalStatus_others</td>\n",
       "      <td>0.00202489</td>\n",
       "      <td>-0.075277</td>\n",
       "    </tr>\n",
       "    <tr>\n",
       "      <td>79</td>\n",
       "      <td>Gender_male Education_high school MaritalStatu...</td>\n",
       "      <td>0.00202622</td>\n",
       "      <td>-0.075266</td>\n",
       "    </tr>\n",
       "    <tr>\n",
       "      <td>64</td>\n",
       "      <td>Gender_female Education_graduate school Marita...</td>\n",
       "      <td>0.0192558</td>\n",
       "      <td>0.073318</td>\n",
       "    </tr>\n",
       "    <tr>\n",
       "      <td>43</td>\n",
       "      <td>Gender_female MaritalStatus_others</td>\n",
       "      <td>0.00226893</td>\n",
       "      <td>-0.073173</td>\n",
       "    </tr>\n",
       "    <tr>\n",
       "      <td>67</td>\n",
       "      <td>Gender_female Education_high school MaritalSta...</td>\n",
       "      <td>0.00234797</td>\n",
       "      <td>-0.072491</td>\n",
       "    </tr>\n",
       "    <tr>\n",
       "      <td>33</td>\n",
       "      <td>Education_university</td>\n",
       "      <td>0.00252407</td>\n",
       "      <td>-0.070972</td>\n",
       "    </tr>\n",
       "    <tr>\n",
       "      <td>30</td>\n",
       "      <td>Education_graduate school</td>\n",
       "      <td>0.00288366</td>\n",
       "      <td>-0.067871</td>\n",
       "    </tr>\n",
       "    <tr>\n",
       "      <td>35</td>\n",
       "      <td>MaritalStatus_others</td>\n",
       "      <td>0.00304615</td>\n",
       "      <td>-0.066470</td>\n",
       "    </tr>\n",
       "    <tr>\n",
       "      <td>55</td>\n",
       "      <td>Education_high school MaritalStatus_married</td>\n",
       "      <td>0.00317665</td>\n",
       "      <td>-0.065345</td>\n",
       "    </tr>\n",
       "    <tr>\n",
       "      <td>34</td>\n",
       "      <td>MaritalStatus_married</td>\n",
       "      <td>0.0176604</td>\n",
       "      <td>0.059559</td>\n",
       "    </tr>\n",
       "    <tr>\n",
       "      <td>84</td>\n",
       "      <td>Gender_male Education_others MaritalStatus_single</td>\n",
       "      <td>0.00464915</td>\n",
       "      <td>-0.052646</td>\n",
       "    </tr>\n",
       "    <tr>\n",
       "      <td>75</td>\n",
       "      <td>Gender_female Education_university MaritalStat...</td>\n",
       "      <td>0.00535322</td>\n",
       "      <td>-0.046574</td>\n",
       "    </tr>\n",
       "    <tr>\n",
       "      <td>86</td>\n",
       "      <td>Gender_male Education_university MaritalStatus...</td>\n",
       "      <td>0.00552995</td>\n",
       "      <td>-0.045050</td>\n",
       "    </tr>\n",
       "    <tr>\n",
       "      <td>18</td>\n",
       "      <td>PrevPaymentJun</td>\n",
       "      <td>0.00620348</td>\n",
       "      <td>-0.039242</td>\n",
       "    </tr>\n",
       "    <tr>\n",
       "      <td>29</td>\n",
       "      <td>Gender_male</td>\n",
       "      <td>0.0143794</td>\n",
       "      <td>0.031265</td>\n",
       "    </tr>\n",
       "    <tr>\n",
       "      <td>22</td>\n",
       "      <td>average_bill</td>\n",
       "      <td>0.0143724</td>\n",
       "      <td>0.031204</td>\n",
       "    </tr>\n",
       "    <tr>\n",
       "      <td>3</td>\n",
       "      <td>Age</td>\n",
       "      <td>0.00726692</td>\n",
       "      <td>-0.030071</td>\n",
       "    </tr>\n",
       "    <tr>\n",
       "      <td>45</td>\n",
       "      <td>Gender_male Education_graduate school</td>\n",
       "      <td>0.0077452</td>\n",
       "      <td>-0.025947</td>\n",
       "    </tr>\n",
       "    <tr>\n",
       "      <td>77</td>\n",
       "      <td>Gender_male Education_graduate school MaritalS...</td>\n",
       "      <td>0.00777635</td>\n",
       "      <td>-0.025678</td>\n",
       "    </tr>\n",
       "    <tr>\n",
       "      <td>74</td>\n",
       "      <td>Gender_female Education_university MaritalStat...</td>\n",
       "      <td>0.00815023</td>\n",
       "      <td>-0.022454</td>\n",
       "    </tr>\n",
       "    <tr>\n",
       "      <td>62</td>\n",
       "      <td>Education_university MaritalStatus_others</td>\n",
       "      <td>0.00984941</td>\n",
       "      <td>-0.007800</td>\n",
       "    </tr>\n",
       "    <tr>\n",
       "      <td>76</td>\n",
       "      <td>Gender_male Education_graduate school MaritalS...</td>\n",
       "      <td>0.0116126</td>\n",
       "      <td>0.007405</td>\n",
       "    </tr>\n",
       "    <tr>\n",
       "      <td>48</td>\n",
       "      <td>Gender_male Education_university</td>\n",
       "      <td>0.0106535</td>\n",
       "      <td>-0.000866</td>\n",
       "    </tr>\n",
       "  </tbody>\n",
       "</table>\n",
       "</div>"
      ],
      "text/plain": [
       "                                              feature   importance  \\\n",
       "4                                        RepayStatApr     0.919574   \n",
       "11                                            BillMay     0.267128   \n",
       "10                                            BillApr    -0.243926   \n",
       "2                                         CreditLimit    -0.220399   \n",
       "12                                            BillJun     0.172502   \n",
       "16                                     PrevPaymentApr    -0.138535   \n",
       "6                                        RepayStatJun     0.134905   \n",
       "14                                            BillAug    -0.108169   \n",
       "9                                        RepayStatSep     0.124936   \n",
       "5                                        RepayStatMay     0.121991   \n",
       "8                                        RepayStatAug     0.121695   \n",
       "13                                            BillJul   -0.0631864   \n",
       "7                                        RepayStatJul    0.0789228   \n",
       "24                                      total_payment   -0.0517688   \n",
       "23                                    average_payment   -0.0517688   \n",
       "17                                     PrevPaymentMay   -0.0514476   \n",
       "25                    average_percentage_of_bill_paid   -0.0354144   \n",
       "15                                            BillSep    0.0515764   \n",
       "27                     average_bill_paid/credit_limit   -0.0238978   \n",
       "26                             bill_paid/credit_limit   -0.0238978   \n",
       "36                               MaritalStatus_single   -0.0182756   \n",
       "66  Gender_female Education_graduate school Marita...   -0.0173766   \n",
       "69  Gender_female Education_high school MaritalSta...   -0.0156263   \n",
       "0                                               index   -0.0154169   \n",
       "1                                                  ID   -0.0154169   \n",
       "44                 Gender_female MaritalStatus_single   -0.0151668   \n",
       "71  Gender_female Education_others MaritalStatus_o...   -0.0147109   \n",
       "59              Education_others MaritalStatus_others   -0.0147109   \n",
       "54     Education_graduate school MaritalStatus_single   -0.0147096   \n",
       "73  Gender_female Education_university MaritalStat...   -0.0146991   \n",
       "28                                      Gender_female   -0.0143794   \n",
       "40                     Gender_female Education_others   -0.0112326   \n",
       "57         Education_high school MaritalStatus_single    -0.011049   \n",
       "80  Gender_male Education_high school MaritalStatu...   -0.0108382   \n",
       "58             Education_others MaritalStatus_married  -0.00934165   \n",
       "70  Gender_female Education_others MaritalStatus_m...  -0.00924571   \n",
       "32                                   Education_others  -0.00795648   \n",
       "39                Gender_female Education_high school  -0.00761182   \n",
       "56         Education_high school MaritalStatus_others  -0.00738446   \n",
       "87  Gender_male Education_university MaritalStatus...  -0.00706004   \n",
       "20                                     PrevPaymentAug  -0.00690357   \n",
       "41                 Gender_female Education_university  -0.00645197   \n",
       "65  Gender_female Education_graduate school Marita...  -0.00639249   \n",
       "31                              Education_high school  -0.00581087   \n",
       "51                   Gender_male MaritalStatus_single  -0.00514578   \n",
       "72  Gender_female Education_others MaritalStatus_s...  -0.00465643   \n",
       "82  Gender_male Education_others MaritalStatus_mar...   -0.0034397   \n",
       "38            Gender_female Education_graduate school  -0.00337585   \n",
       "19                                     PrevPaymentJul  -0.00230383   \n",
       "49                  Gender_male MaritalStatus_married    0.0236737   \n",
       "68  Gender_female Education_high school MaritalSta...  -0.00141147   \n",
       "52    Education_graduate school MaritalStatus_married    0.0226324   \n",
       "60              Education_others MaritalStatus_single  -0.00076906   \n",
       "78  Gender_male Education_graduate school MaritalS... -0.000716808   \n",
       "63          Education_university MaritalStatus_single -0.000713115   \n",
       "42                Gender_female MaritalStatus_married -0.000629772   \n",
       "85  Gender_male Education_university MaritalStatus...    0.0218069   \n",
       "37                                                  1            0   \n",
       "83  Gender_male Education_others MaritalStatus_others            0   \n",
       "21                                     PrevPaymentSep    0.0214222   \n",
       "46                  Gender_male Education_high school  0.000421812   \n",
       "81  Gender_male Education_high school MaritalStatu...  0.000530756   \n",
       "47                       Gender_male Education_others   0.00135766   \n",
       "61         Education_university MaritalStatus_married   0.00189724   \n",
       "53     Education_graduate school MaritalStatus_others   0.00195858   \n",
       "50                   Gender_male MaritalStatus_others   0.00202489   \n",
       "79  Gender_male Education_high school MaritalStatu...   0.00202622   \n",
       "64  Gender_female Education_graduate school Marita...    0.0192558   \n",
       "43                 Gender_female MaritalStatus_others   0.00226893   \n",
       "67  Gender_female Education_high school MaritalSta...   0.00234797   \n",
       "33                               Education_university   0.00252407   \n",
       "30                          Education_graduate school   0.00288366   \n",
       "35                               MaritalStatus_others   0.00304615   \n",
       "55        Education_high school MaritalStatus_married   0.00317665   \n",
       "34                              MaritalStatus_married    0.0176604   \n",
       "84  Gender_male Education_others MaritalStatus_single   0.00464915   \n",
       "75  Gender_female Education_university MaritalStat...   0.00535322   \n",
       "86  Gender_male Education_university MaritalStatus...   0.00552995   \n",
       "18                                     PrevPaymentJun   0.00620348   \n",
       "29                                        Gender_male    0.0143794   \n",
       "22                                       average_bill    0.0143724   \n",
       "3                                                 Age   0.00726692   \n",
       "45              Gender_male Education_graduate school    0.0077452   \n",
       "77  Gender_male Education_graduate school MaritalS...   0.00777635   \n",
       "74  Gender_female Education_university MaritalStat...   0.00815023   \n",
       "62          Education_university MaritalStatus_others   0.00984941   \n",
       "76  Gender_male Education_graduate school MaritalS...    0.0116126   \n",
       "48                   Gender_male Education_university    0.0106535   \n",
       "\n",
       "    coef_importance_scaled  \n",
       "4                 7.837433  \n",
       "11                2.210903  \n",
       "10               -2.196292  \n",
       "2                -1.993404  \n",
       "12                1.394876  \n",
       "16               -1.287430  \n",
       "6                 1.070645  \n",
       "14               -1.025563  \n",
       "9                 0.984673  \n",
       "5                 0.959283  \n",
       "8                 0.956728  \n",
       "13               -0.637643  \n",
       "7                 0.587872  \n",
       "24               -0.539180  \n",
       "23               -0.539180  \n",
       "17               -0.536411  \n",
       "25               -0.398144  \n",
       "15                0.352043  \n",
       "27               -0.298828  \n",
       "26               -0.298828  \n",
       "36               -0.250344  \n",
       "66               -0.242591  \n",
       "69               -0.227497  \n",
       "0                -0.225691  \n",
       "1                -0.225691  \n",
       "44               -0.223534  \n",
       "71               -0.219602  \n",
       "59               -0.219602  \n",
       "54               -0.219591  \n",
       "73               -0.219501  \n",
       "28               -0.216744  \n",
       "40               -0.189606  \n",
       "57               -0.188023  \n",
       "80               -0.186205  \n",
       "58               -0.173299  \n",
       "70               -0.172472  \n",
       "32               -0.161354  \n",
       "39               -0.158382  \n",
       "56               -0.156421  \n",
       "87               -0.153623  \n",
       "20               -0.152274  \n",
       "41               -0.148379  \n",
       "65               -0.147867  \n",
       "31               -0.142851  \n",
       "51               -0.137115  \n",
       "72               -0.132895  \n",
       "82               -0.122402  \n",
       "38               -0.121852  \n",
       "19               -0.112607  \n",
       "49                0.111417  \n",
       "68               -0.104911  \n",
       "52                0.102437  \n",
       "60               -0.099371  \n",
       "78               -0.098921  \n",
       "63               -0.098889  \n",
       "42               -0.098170  \n",
       "85                0.095318  \n",
       "37               -0.092739  \n",
       "83               -0.092739  \n",
       "21                0.092001  \n",
       "46               -0.089102  \n",
       "81               -0.088162  \n",
       "47               -0.081031  \n",
       "61               -0.076378  \n",
       "53               -0.075849  \n",
       "50               -0.075277  \n",
       "79               -0.075266  \n",
       "64                0.073318  \n",
       "43               -0.073173  \n",
       "67               -0.072491  \n",
       "33               -0.070972  \n",
       "30               -0.067871  \n",
       "35               -0.066470  \n",
       "55               -0.065345  \n",
       "34                0.059559  \n",
       "84               -0.052646  \n",
       "75               -0.046574  \n",
       "86               -0.045050  \n",
       "18               -0.039242  \n",
       "29                0.031265  \n",
       "22                0.031204  \n",
       "3                -0.030071  \n",
       "45               -0.025947  \n",
       "77               -0.025678  \n",
       "74               -0.022454  \n",
       "62               -0.007800  \n",
       "76                0.007405  \n",
       "48               -0.000866  "
      ]
     },
     "execution_count": 317,
     "metadata": {},
     "output_type": "execute_result"
    }
   ],
   "source": [
    "importances"
   ]
  },
  {
   "cell_type": "code",
   "execution_count": null,
   "metadata": {},
   "outputs": [],
   "source": []
  }
 ],
 "metadata": {
  "kernelspec": {
   "display_name": "Python 3",
   "language": "python",
   "name": "python3"
  },
  "language_info": {
   "codemirror_mode": {
    "name": "ipython",
    "version": 3
   },
   "file_extension": ".py",
   "mimetype": "text/x-python",
   "name": "python",
   "nbconvert_exporter": "python",
   "pygments_lexer": "ipython3",
   "version": "3.7.3"
  }
 },
 "nbformat": 4,
 "nbformat_minor": 4
}
